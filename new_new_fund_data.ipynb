{
 "cells": [
  {
   "cell_type": "code",
   "execution_count": 1,
   "id": "701b17e7-3725-42e6-be44-7d2e0df7e390",
   "metadata": {},
   "outputs": [],
   "source": [
    "import pandas as pd\n",
    "import numpy as np"
   ]
  },
  {
   "cell_type": "code",
   "execution_count": 5,
   "id": "c9b16adb-cdcc-40f2-82e2-af3c1f5d9559",
   "metadata": {},
   "outputs": [],
   "source": [
    "Composite_bond_index = {\n",
    "    '1month' : -0.01,\n",
    "    '3month' : 2.42,\n",
    "    '12month' : 8.46,\n",
    "    '3year' : 4.75,\n",
    "    '5year' : 7.73\n",
    "}"
   ]
  },
  {
   "cell_type": "code",
   "execution_count": 6,
   "id": "6afebaf4-3c1e-4fe0-9315-c2963bd26fa8",
   "metadata": {},
   "outputs": [],
   "source": [
    "Hybrid_35_65 = {\n",
    "    '1month' : 2.61,\n",
    "    '3month' : 8.96,\n",
    "    '12month' : 18.06,\n",
    "    '3year' : 18.13,\n",
    "    '5year' : 12.29\n",
    "}"
   ]
  },
  {
   "cell_type": "code",
   "execution_count": 7,
   "id": "6285b7c3-c89a-4449-8527-c14291dfb1e3",
   "metadata": {},
   "outputs": [],
   "source": [
    "Nifty = {\n",
    "    '1month' : -1.06,\n",
    "    '3month' : 7.24,\n",
    "    '12month' : 9.75,\n",
    "    '3year' : 48.21,\n",
    "    '5year' : 119.82\n",
    "}"
   ]
  },
  {
   "cell_type": "code",
   "execution_count": 8,
   "id": "ce490525-e60e-4ed1-8bea-91cd3205f510",
   "metadata": {},
   "outputs": [],
   "source": [
    "Gold_ETF = {\n",
    "    '1month' : -4.26,\n",
    "    '3month' : -2.50,\n",
    "    '12month' : 15.76,\n",
    "    '3year' : 12.08,\n",
    "    '5year' : 12.47\n",
    "}"
   ]
  },
  {
   "cell_type": "code",
   "execution_count": 13,
   "id": "74bc69e0-d128-4f3f-ad07-283736082cb8",
   "metadata": {},
   "outputs": [],
   "source": [
    "composite_bond_df = pd.DataFrame(Composite_bond_index,index=[0])"
   ]
  },
  {
   "cell_type": "code",
   "execution_count": 14,
   "id": "9b6c6a5d-5d24-426f-ba37-9e6eb1d8ee58",
   "metadata": {},
   "outputs": [
    {
     "data": {
      "text/html": [
       "<div>\n",
       "<style scoped>\n",
       "    .dataframe tbody tr th:only-of-type {\n",
       "        vertical-align: middle;\n",
       "    }\n",
       "\n",
       "    .dataframe tbody tr th {\n",
       "        vertical-align: top;\n",
       "    }\n",
       "\n",
       "    .dataframe thead th {\n",
       "        text-align: right;\n",
       "    }\n",
       "</style>\n",
       "<table border=\"1\" class=\"dataframe\">\n",
       "  <thead>\n",
       "    <tr style=\"text-align: right;\">\n",
       "      <th></th>\n",
       "      <th>1month</th>\n",
       "      <th>3month</th>\n",
       "      <th>12month</th>\n",
       "      <th>3year</th>\n",
       "      <th>5year</th>\n",
       "    </tr>\n",
       "  </thead>\n",
       "  <tbody>\n",
       "    <tr>\n",
       "      <th>0</th>\n",
       "      <td>-0.01</td>\n",
       "      <td>2.42</td>\n",
       "      <td>8.46</td>\n",
       "      <td>4.75</td>\n",
       "      <td>7.73</td>\n",
       "    </tr>\n",
       "  </tbody>\n",
       "</table>\n",
       "</div>"
      ],
      "text/plain": [
       "   1month  3month  12month  3year  5year\n",
       "0   -0.01    2.42     8.46   4.75   7.73"
      ]
     },
     "execution_count": 14,
     "metadata": {},
     "output_type": "execute_result"
    }
   ],
   "source": []
  },
  {
   "cell_type": "code",
   "execution_count": 54,
   "id": "b6bca4ef-ebfb-4583-8cd7-dbc4e288b616",
   "metadata": {},
   "outputs": [
    {
     "data": {
      "text/html": [
       "<div>\n",
       "<style scoped>\n",
       "    .dataframe tbody tr th:only-of-type {\n",
       "        vertical-align: middle;\n",
       "    }\n",
       "\n",
       "    .dataframe tbody tr th {\n",
       "        vertical-align: top;\n",
       "    }\n",
       "\n",
       "    .dataframe thead th {\n",
       "        text-align: right;\n",
       "    }\n",
       "</style>\n",
       "<table border=\"1\" class=\"dataframe\">\n",
       "  <thead>\n",
       "    <tr style=\"text-align: right;\">\n",
       "      <th></th>\n",
       "      <th>1month</th>\n",
       "      <th>3month</th>\n",
       "      <th>12month</th>\n",
       "      <th>3year</th>\n",
       "      <th>5year</th>\n",
       "    </tr>\n",
       "  </thead>\n",
       "  <tbody>\n",
       "    <tr>\n",
       "      <th>0</th>\n",
       "      <td>2.61</td>\n",
       "      <td>8.96</td>\n",
       "      <td>18.06</td>\n",
       "      <td>18.13</td>\n",
       "      <td>12.29</td>\n",
       "    </tr>\n",
       "  </tbody>\n",
       "</table>\n",
       "</div>"
      ],
      "text/plain": [
       "   1month  3month  12month  3year  5year\n",
       "0    2.61    8.96    18.06  18.13  12.29"
      ]
     },
     "execution_count": 54,
     "metadata": {},
     "output_type": "execute_result"
    }
   ],
   "source": [
    "hybrid_35_fund  = pd.DataFrame(Hybrid_35_65,index=[0])\n",
    "hybrid_35_fund"
   ]
  },
  {
   "cell_type": "code",
   "execution_count": 55,
   "id": "e8208904-88e9-481c-b954-e6913e1c6dd6",
   "metadata": {},
   "outputs": [
    {
     "data": {
      "text/html": [
       "<div>\n",
       "<style scoped>\n",
       "    .dataframe tbody tr th:only-of-type {\n",
       "        vertical-align: middle;\n",
       "    }\n",
       "\n",
       "    .dataframe tbody tr th {\n",
       "        vertical-align: top;\n",
       "    }\n",
       "\n",
       "    .dataframe thead th {\n",
       "        text-align: right;\n",
       "    }\n",
       "</style>\n",
       "<table border=\"1\" class=\"dataframe\">\n",
       "  <thead>\n",
       "    <tr style=\"text-align: right;\">\n",
       "      <th></th>\n",
       "      <th>1month</th>\n",
       "      <th>3month</th>\n",
       "      <th>12month</th>\n",
       "      <th>3year</th>\n",
       "      <th>5year</th>\n",
       "    </tr>\n",
       "  </thead>\n",
       "  <tbody>\n",
       "    <tr>\n",
       "      <th>0</th>\n",
       "      <td>-1.06</td>\n",
       "      <td>7.24</td>\n",
       "      <td>9.75</td>\n",
       "      <td>48.21</td>\n",
       "      <td>119.82</td>\n",
       "    </tr>\n",
       "  </tbody>\n",
       "</table>\n",
       "</div>"
      ],
      "text/plain": [
       "   1month  3month  12month  3year   5year\n",
       "0   -1.06    7.24     9.75  48.21  119.82"
      ]
     },
     "execution_count": 55,
     "metadata": {},
     "output_type": "execute_result"
    }
   ],
   "source": [
    "Nifty_fund = pd.DataFrame(Nifty,index=[0])\n",
    "Nifty_fund"
   ]
  },
  {
   "cell_type": "code",
   "execution_count": 56,
   "id": "9bcffec9-c567-4040-9275-32638e7d42ad",
   "metadata": {},
   "outputs": [
    {
     "data": {
      "text/html": [
       "<div>\n",
       "<style scoped>\n",
       "    .dataframe tbody tr th:only-of-type {\n",
       "        vertical-align: middle;\n",
       "    }\n",
       "\n",
       "    .dataframe tbody tr th {\n",
       "        vertical-align: top;\n",
       "    }\n",
       "\n",
       "    .dataframe thead th {\n",
       "        text-align: right;\n",
       "    }\n",
       "</style>\n",
       "<table border=\"1\" class=\"dataframe\">\n",
       "  <thead>\n",
       "    <tr style=\"text-align: right;\">\n",
       "      <th></th>\n",
       "      <th>1month</th>\n",
       "      <th>3month</th>\n",
       "      <th>12month</th>\n",
       "      <th>3year</th>\n",
       "      <th>5year</th>\n",
       "    </tr>\n",
       "  </thead>\n",
       "  <tbody>\n",
       "    <tr>\n",
       "      <th>0</th>\n",
       "      <td>-4.26</td>\n",
       "      <td>-2.5</td>\n",
       "      <td>15.76</td>\n",
       "      <td>12.08</td>\n",
       "      <td>12.47</td>\n",
       "    </tr>\n",
       "  </tbody>\n",
       "</table>\n",
       "</div>"
      ],
      "text/plain": [
       "   1month  3month  12month  3year  5year\n",
       "0   -4.26    -2.5    15.76  12.08  12.47"
      ]
     },
     "execution_count": 56,
     "metadata": {},
     "output_type": "execute_result"
    }
   ],
   "source": [
    "Gold_ETF_fund = pd.DataFrame(Gold_ETF,index = [0])\n",
    "Gold_ETF_fund"
   ]
  },
  {
   "cell_type": "markdown",
   "id": "4adbffa1-8ab6-4aa2-85d4-a6f4dc025339",
   "metadata": {},
   "source": [
    "## For 1 month"
   ]
  },
  {
   "cell_type": "code",
   "execution_count": null,
   "id": "8685f462-5037-456d-9efc-d6baf6e6b994",
   "metadata": {},
   "outputs": [],
   "source": [
    "no_of_months = 3\n",
    "no_of_year = 0"
   ]
  },
  {
   "cell_type": "code",
   "execution_count": 60,
   "id": "ad643af4-e9cf-488b-9d9e-dd5b28df2351",
   "metadata": {},
   "outputs": [],
   "source": [
    "def create_data_frame(no_of_months,no_of_year):\n",
    "    if(no_of_months!=0):\n",
    "        data = {\n",
    "            'fund1': composite_bond_df['{}'.format(no_of_months)+'month'],\n",
    "            'fund2': hybrid_35_fund['{}'.format(no_of_months)+'month'],\n",
    "            'fund3': Nifty_fund['{}'.format(no_of_months)+'month'],\n",
    "            'fund4': Gold_ETF_fund['{}'.format(no_of_months)+'month']\n",
    "        }\n",
    "    elif(no_of_year!=0):\n",
    "        data = {\n",
    "            'fund1': composite_bond_df['{}'.format(no_of_year)+'year'],\n",
    "            'fund2': hybrid_35_fund['{}'.format(no_of_year)+'year'],\n",
    "            'fund3': Nifty_fund['{}'.format(no_of_year)+'year'],\n",
    "            'fund4': Gold_ETF_fund['{}'.format(no_of_year)+'year']\n",
    "        }\n",
    "    dataFrame = pd.DataFrame(data)\n",
    "    return dataFrame\n",
    "        "
   ]
  },
  {
   "cell_type": "code",
   "execution_count": 62,
   "id": "cd16a841-016f-4693-b0ca-625e5212aaea",
   "metadata": {},
   "outputs": [
    {
     "data": {
      "text/html": [
       "<div>\n",
       "<style scoped>\n",
       "    .dataframe tbody tr th:only-of-type {\n",
       "        vertical-align: middle;\n",
       "    }\n",
       "\n",
       "    .dataframe tbody tr th {\n",
       "        vertical-align: top;\n",
       "    }\n",
       "\n",
       "    .dataframe thead th {\n",
       "        text-align: right;\n",
       "    }\n",
       "</style>\n",
       "<table border=\"1\" class=\"dataframe\">\n",
       "  <thead>\n",
       "    <tr style=\"text-align: right;\">\n",
       "      <th></th>\n",
       "      <th>fund1</th>\n",
       "      <th>fund2</th>\n",
       "      <th>fund3</th>\n",
       "      <th>fund4</th>\n",
       "    </tr>\n",
       "  </thead>\n",
       "  <tbody>\n",
       "    <tr>\n",
       "      <th>0</th>\n",
       "      <td>2.42</td>\n",
       "      <td>8.96</td>\n",
       "      <td>7.24</td>\n",
       "      <td>-2.5</td>\n",
       "    </tr>\n",
       "  </tbody>\n",
       "</table>\n",
       "</div>"
      ],
      "text/plain": [
       "   fund1  fund2  fund3  fund4\n",
       "0   2.42   8.96   7.24   -2.5"
      ]
     },
     "execution_count": 62,
     "metadata": {},
     "output_type": "execute_result"
    }
   ],
   "source": [
    "data = create_data_frame(3,0)\n",
    "data"
   ]
  },
  {
   "cell_type": "code",
   "execution_count": 22,
   "id": "37549613-2d57-4d97-9ff1-32c10c56d01a",
   "metadata": {},
   "outputs": [],
   "source": [
    "data = {\n",
    "    \n",
    "    'fund1' : composite_bond_df['1month'],\n",
    "    'fund2' : hybrid_35_fund['1month'],\n",
    "    'fund3': Nifty_fund['1month'],\n",
    "    'fund4' : Gold_ETF_fund['1month']\n",
    "}"
   ]
  },
  {
   "cell_type": "code",
   "execution_count": 23,
   "id": "4ed3ac0c-f2ac-4a97-8aa2-6dca22f4d9a3",
   "metadata": {},
   "outputs": [],
   "source": [
    "data_1_month  = pd.DataFrame(data)"
   ]
  },
  {
   "cell_type": "code",
   "execution_count": 24,
   "id": "fb47d4c9-b813-481d-b934-b07b5d9006fa",
   "metadata": {},
   "outputs": [
    {
     "data": {
      "text/plain": [
       "array([0.68045207, 0.67233593, 0.64788832, 0.9474658 ])"
      ]
     },
     "metadata": {},
     "output_type": "display_data"
    }
   ],
   "source": [
    "random_weights = np.array(np.random.random(4))\n",
    "display(random_weights)"
   ]
  },
  {
   "cell_type": "code",
   "execution_count": 41,
   "id": "6cbcc2b0-6f0a-465d-a109-8dd9750720cf",
   "metadata": {},
   "outputs": [
    {
     "data": {
      "text/plain": [
       "array([0.23080708, 0.22805411, 0.21976156, 0.32137725])"
      ]
     },
     "execution_count": 41,
     "metadata": {},
     "output_type": "execute_result"
    }
   ],
   "source": [
    "rebalance_weights = random_weights/(np.sum(random_weights))\n",
    "rebalance_weights"
   ]
  },
  {
   "cell_type": "code",
   "execution_count": 27,
   "id": "cdfe76ac-15b2-4d2a-9afe-7790ed2b74a3",
   "metadata": {},
   "outputs": [
    {
     "data": {
      "text/html": [
       "<div>\n",
       "<style scoped>\n",
       "    .dataframe tbody tr th:only-of-type {\n",
       "        vertical-align: middle;\n",
       "    }\n",
       "\n",
       "    .dataframe tbody tr th {\n",
       "        vertical-align: top;\n",
       "    }\n",
       "\n",
       "    .dataframe thead th {\n",
       "        text-align: right;\n",
       "    }\n",
       "</style>\n",
       "<table border=\"1\" class=\"dataframe\">\n",
       "  <thead>\n",
       "    <tr style=\"text-align: right;\">\n",
       "      <th></th>\n",
       "      <th>fund1</th>\n",
       "      <th>fund2</th>\n",
       "      <th>fund3</th>\n",
       "      <th>fund4</th>\n",
       "    </tr>\n",
       "  </thead>\n",
       "  <tbody>\n",
       "    <tr>\n",
       "      <th>0</th>\n",
       "      <td>-0.01</td>\n",
       "      <td>2.61</td>\n",
       "      <td>-1.06</td>\n",
       "      <td>-4.26</td>\n",
       "    </tr>\n",
       "  </tbody>\n",
       "</table>\n",
       "</div>"
      ],
      "text/plain": [
       "   fund1  fund2  fund3  fund4\n",
       "0  -0.01   2.61  -1.06  -4.26"
      ]
     },
     "execution_count": 27,
     "metadata": {},
     "output_type": "execute_result"
    }
   ],
   "source": [
    "data_1_month"
   ]
  },
  {
   "cell_type": "code",
   "execution_count": 43,
   "id": "15509de6-b276-4117-b61b-4ff4a0848c57",
   "metadata": {},
   "outputs": [
    {
     "data": {
      "text/plain": [
       "-1.009101178896012"
      ]
     },
     "execution_count": 43,
     "metadata": {},
     "output_type": "execute_result"
    }
   ],
   "source": [
    "exp_return = np.sum(( data_1_month* rebalance_weights).values)\n",
    "exp_return"
   ]
  },
  {
   "cell_type": "code",
   "execution_count": 44,
   "id": "6db969f2-a206-4f6d-9dae-a5e861df9e96",
   "metadata": {},
   "outputs": [
    {
     "data": {
      "text/plain": [
       "1.2474645491792618"
      ]
     },
     "execution_count": 44,
     "metadata": {},
     "output_type": "execute_result"
    }
   ],
   "source": [
    "exp_volatility = np.sqrt(np.dot(rebalance_weights.T, np.dot(np.cov(data_1_month,ddof = 0),rebalance_weights)))\n",
    "exp_volatility"
   ]
  },
  {
   "cell_type": "code",
   "execution_count": 45,
   "id": "cca439f8-7305-43e0-9b3c-ad41e3e175aa",
   "metadata": {},
   "outputs": [
    {
     "data": {
      "text/plain": [
       "-0.8650355471872767"
      ]
     },
     "execution_count": 45,
     "metadata": {},
     "output_type": "execute_result"
    }
   ],
   "source": [
    "sharpe_ratio = (exp_return - .07)/exp_volatility\n",
    "sharpe_ratio"
   ]
  },
  {
   "cell_type": "code",
   "execution_count": 46,
   "id": "26380929-4818-4bfc-8171-e4b8a25ccb31",
   "metadata": {},
   "outputs": [
    {
     "name": "stdout",
     "output_type": "stream",
     "text": [
      "\n",
      "--------------------------------------------------------------------------------\n",
      "PORTFOLIO WEIGHTS : \n",
      "--------------------------------------------------------------------------------\n",
      "   random_weights  rebalance_weights\n",
      "0        0.680452           0.230807\n",
      "1        0.672336           0.228054\n",
      "2        0.647888           0.219762\n",
      "3        0.947466           0.321377\n",
      "--------------------------------------------------------------------------------\n",
      "\n",
      "--------------------------------------------------------------------------------\n",
      "PORTFOLIO METRICS : \n",
      "--------------------------------------------------------------------------------\n",
      "   Expected Returns  Expected Portfolio Volatility  Sharpe Ratio\n",
      "0         -1.009101                       1.247465     -0.865036\n",
      "--------------------------------------------------------------------------------\n"
     ]
    }
   ],
   "source": [
    "weights_df = pd.DataFrame(data ={'random_weights' : random_weights, 'rebalance_weights' :rebalance_weights})\n",
    "print(\"\")\n",
    "print(\"-\"*80)\n",
    "print(\"PORTFOLIO WEIGHTS : \")\n",
    "print(\"-\" * 80)\n",
    "print(weights_df)\n",
    "print(\"-\"*80)\n",
    "\n",
    "\n",
    "metrics_df = pd.DataFrame(data = {'Expected Returns': exp_return, 'Expected Portfolio Volatility' : exp_volatility, 'Sharpe Ratio' : sharpe_ratio},index=[0])\n",
    "print(\"\")\n",
    "print(\"-\"*80)\n",
    "print(\"PORTFOLIO METRICS : \")\n",
    "print(\"-\" * 80)\n",
    "print(metrics_df)\n",
    "print(\"-\"*80)"
   ]
  },
  {
   "cell_type": "markdown",
   "id": "743bb033-1869-4a62-9505-fbdb9c393d00",
   "metadata": {},
   "source": [
    "## Monte Carlo Optimisation\n"
   ]
  },
  {
   "cell_type": "code",
   "execution_count": 47,
   "id": "82511148-3b7b-4f92-b167-5333226777da",
   "metadata": {},
   "outputs": [],
   "source": [
    "number_of_symbols = 4"
   ]
  },
  {
   "cell_type": "code",
   "execution_count": 53,
   "id": "0dce1788-b3c1-4a5d-aeff-c6cb8093148e",
   "metadata": {},
   "outputs": [
    {
     "name": "stdout",
     "output_type": "stream",
     "text": [
      "Returns                                                       2.163596\n",
      "Volatility                                                     2.13428\n",
      "Sharpe Ratio                                                  0.980938\n",
      "Portfolio Weights    [0.07759211232098878, 0.8619154906928947, 0.05...\n",
      "Name: 2500, dtype: object\n"
     ]
    }
   ],
   "source": [
    "num_of_portfolio = 5000\n",
    "\n",
    "all_weights = np.zeros((num_of_portfolio, number_of_symbols))\n",
    "ret_arr = np.zeros(num_of_portfolio)\n",
    "vol_arr = np.zeros(num_of_portfolio)\n",
    "sharpe_arr = np.zeros(num_of_portfolio)\n",
    "\n",
    "#Start the simulation\n",
    "\n",
    "for ind in range(num_of_portfolio):\n",
    "    weights = np.array(np.random.random(number_of_symbols))\n",
    "    weights = weights/np.sum(weights)\n",
    "    all_weights[ind,:] = weights\n",
    "    ret_arr[ind] = np.sum((data_1_month * weights).values)\n",
    "    vol_arr[ind] = np.sqrt(\n",
    "        np.dot(weights.T, np.dot(np.cov(data_1_month,ddof=0), weights))\n",
    "    )\n",
    "    sharpe_arr[ind] = (ret_arr[ind]-0.07)/vol_arr[ind]\n",
    "\n",
    "simulations_data = [ret_arr,vol_arr, sharpe_arr, all_weights]\n",
    "simulation_df = pd.DataFrame(data = simulations_data).T\n",
    "\n",
    "# Add the column names\n",
    "simulation_df.columns = [\n",
    "    'Returns',\n",
    "    'Volatility',\n",
    "    'Sharpe Ratio',\n",
    "    'Portfolio Weights'\n",
    "]\n",
    "\n",
    "# Make sure the data types are correct, we don't want our floats to be strings.\n",
    "simulation_df = simulation_df.infer_objects()\n",
    "\n",
    "# Print out the results.\n",
    "# print('')\n",
    "# print('='*80)\n",
    "# print('SIMULATIONS RESULT:')\n",
    "# print('-'*80)\n",
    "# print(simulation_df.head())\n",
    "# print('-'*80)\n",
    "max_return = simulation_df['Returns'].max()\n",
    "max_return_index = simulation_df['Returns'].idxmax()\n",
    "max_return_row = simulation_df.loc[max_return_index]\n",
    "print(max_return_row)"
   ]
  },
  {
   "cell_type": "code",
   "execution_count": null,
   "id": "9edc7fbc-dbd3-43aa-8e07-3dd154516810",
   "metadata": {},
   "outputs": [],
   "source": []
  },
  {
   "cell_type": "code",
   "execution_count": null,
   "id": "9f600eb7-d19e-4875-956a-400bb4f35c2b",
   "metadata": {},
   "outputs": [],
   "source": []
  }
 ],
 "metadata": {
  "kernelspec": {
   "display_name": "Python 3 (ipykernel)",
   "language": "python",
   "name": "python3"
  },
  "language_info": {
   "codemirror_mode": {
    "name": "ipython",
    "version": 3
   },
   "file_extension": ".py",
   "mimetype": "text/x-python",
   "name": "python",
   "nbconvert_exporter": "python",
   "pygments_lexer": "ipython3",
   "version": "3.8.16"
  }
 },
 "nbformat": 4,
 "nbformat_minor": 5
}

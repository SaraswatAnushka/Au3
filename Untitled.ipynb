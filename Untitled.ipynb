{
 "cells": [
  {
   "cell_type": "code",
   "execution_count": 5,
   "id": "dbb4c36b-a533-4148-9c68-f766d8b1c93f",
   "metadata": {},
   "outputs": [
    {
     "name": "stdout",
     "output_type": "stream",
     "text": [
      "Hello World\n"
     ]
    }
   ],
   "source": [
    "print(\"Hello World\")"
   ]
  },
  {
   "cell_type": "code",
   "execution_count": 92,
   "id": "04969ae3-4fe4-4c02-ae2f-1579f39f0e46",
   "metadata": {},
   "outputs": [],
   "source": [
    "from bs4 import BeautifulSoup\n",
    "import requests\n",
    "import numpy as np\n",
    "import pandas as pd"
   ]
  },
  {
   "cell_type": "code",
   "execution_count": 155,
   "id": "2aa61faa-2681-4f82-b7c4-02e1abf964d3",
   "metadata": {},
   "outputs": [],
   "source": [
    "import pathlib\n",
    "import matplotlib.pyplot as plt\n",
    "import scipy.optimize as sci_plt\n",
    "from pprint import pprint\n",
    "from fake_useragent import UserAgent\n",
    "from sklearn.preprocessing import StandardScaler\n",
    "import pandas as pd\n",
    "# from pyopt.client import PriceHistory\n",
    "\n",
    "# pd.set_option('display.max_colwidth', -1)\n",
    "# pd.set_option('expand_frame_repr', False)\n",
    "pd.set_option('display.max_rows', None)"
   ]
  },
  {
   "cell_type": "code",
   "execution_count": 50,
   "id": "3c6d85c0-8e13-42c9-8034-b1fcab369741",
   "metadata": {},
   "outputs": [
    {
     "name": "stdout",
     "output_type": "stream",
     "text": [
      "Requirement already satisfied: pyopt in /Users/Anushka/miniforge3/envs/my_env38/lib/python3.8/site-packages (0.84)\n",
      "Note: you may need to restart the kernel to use updated packages.\n"
     ]
    }
   ],
   "source": [
    "pip install pyopt"
   ]
  },
  {
   "cell_type": "code",
   "execution_count": 8,
   "id": "fbae9394-03b9-41d7-8f93-00e300ceaab9",
   "metadata": {},
   "outputs": [
    {
     "data": {
      "text/plain": [
       "<Response [200]>"
      ]
     },
     "execution_count": 8,
     "metadata": {},
     "output_type": "execute_result"
    }
   ],
   "source": [
    "url = \"https://www.amfiindia.com/nav-history-download\"\n",
    "response = requests.get(url)\n",
    "response"
   ]
  },
  {
   "cell_type": "code",
   "execution_count": 10,
   "id": "b3600cb5-fb84-40d8-ab53-c27cfef6ee03",
   "metadata": {},
   "outputs": [
    {
     "data": {
      "text/plain": [
       "<!DOCTYPE html>\n",
       "\n",
       "<html lang=\"en\">\n",
       "<head>\n",
       "<title>Net Asset Value of Mutual Funds | Nav History Download</title>\n",
       "<meta content=\"mutual funds in india, equity mutual funds, tax saving mutual funds, investment planning\" name=\"keywords\"/>\n",
       "<meta content=\"Access earlier NAV reports and Download them in text format. Download open ended and close ended NAV reports.\" name=\"description\"/>\n",
       "<title>AMFI</title>\n",
       "<meta content=\"width=device-width, initial-scale=1, maximum-scale=1\" name=\"viewport\"/>\n",
       "<meta content=\"index, follow\" id=\"robots\" name=\"robots\"/>\n",
       "<link href=\"/Themes/Theme1/css/960_grid.css\" rel=\"stylesheet\" type=\"text/css\"/>\n",
       "<link href=\"/Themes/Theme1/css/jquery.fancybox.css\" rel=\"stylesheet\" type=\"text/css\"/>\n",
       "<link href=\"/Themes/Theme1/css/global.css\" rel=\"stylesheet\" type=\"text/css\"/>\n",
       "<link href=\"/Themes/Theme1/css/jquery.simplyscroll.css\" rel=\"stylesheet\" type=\"text/css\"/>\n",
       "<link href=\"/Themes/Theme1/css/jqtransform.css\" rel=\"stylesheet\" type=\"text/css\"/>\n",
       "<link href=\"/Themes/Theme1/css/responsive_style.css\" rel=\"stylesheet\" type=\"text/css\"/>\n",
       "<link href=\"/Themes/Theme1/scripts/colorbox/colorbox.css\" rel=\"stylesheet\" type=\"text/css\"/>\n",
       "<link href=\"/Themes/Theme1/css/thickbox.css\" rel=\"stylesheet\" type=\"text/css\"/>\n",
       "<link href=\"/Themes/Theme1/css/slick.css\" rel=\"stylesheet\" type=\"text/css\"/>\n",
       "<!--[if lt IE 9]>\n",
       "        <script language=\"JavaScript\" src=\"/Themes/Theme1/scripts/html5.js\" type=\"text/javascript\"></script>\n",
       "        <script language=\"JavaScript\" src=\"/Themes/Theme1/scripts/css3_mq.js\" type=\"text/javascript\"></script>\n",
       "\t<![endif]-->\n",
       "<script language=\"JavaScript\" src=\"/Themes/Theme1/scripts/jquery-1.8.2.min.js\" type=\"text/javascript\"></script>\n",
       "<script language=\"JavaScript\" src=\"/Themes/Theme1/scripts/ufo.js\" type=\"text/javascript\"></script>\n",
       "<script language=\"JavaScript\" src=\"/Themes/Theme1/scripts/css_browser_selector.js\" type=\"text/javascript\"></script>\n",
       "<script language=\"JavaScript\" src=\"/Themes/Theme1/scripts/jquery.simplyscroll.js\" type=\"text/javascript\"></script>\n",
       "<script language=\"JavaScript\" src=\"/Themes/Theme1/scripts/jquery.backstretch.min.js\" type=\"text/javascript\"></script>\n",
       "<script language=\"JavaScript\" src=\"/Themes/Theme1/scripts/jquery.jqtransform.js\" type=\"text/javascript\"></script>\n",
       "<script language=\"JavaScript\" src=\"/Themes/Theme1/scripts/colorbox/jquery.colorbox-min.js\" type=\"text/javascript\"></script>\n",
       "<script language=\"JavaScript\" src=\"/Themes/Theme1/scripts/thickbox.js\" type=\"text/javascript\"></script>\n",
       "<script language=\"JavaScript\" src=\"/Themes/Theme1/scripts/jquery.fancybox.js\" type=\"text/javascript\"></script>\n",
       "<script language=\"JavaScript\" src=\"/Themes/Theme1/scripts/slick.js\" type=\"text/javascript\"></script>\n",
       "<script language=\"JavaScript\" src=\"/Themes/Theme1/scripts/common.js\" type=\"text/javascript\"></script>\n",
       "<link href=\"/Content/stylesheets/datepicker.css\" rel=\"stylesheet\" type=\"text/css\"/>\n",
       "<script src=\"/Scripts/bootstrap-datepicker.js\" type=\"text/javascript\"></script>\n",
       "<script language=\"JavaScript\" src=\"/Themes/Theme1/scripts/auto-complete.js\" type=\"text/javascript\"></script>\n",
       "<script type=\"text/javascript\">\n",
       "\t  var _gaq = _gaq || [];\n",
       "\t  _gaq.push(['_setAccount', 'UA-21257044-1']);\n",
       "\t  _gaq.push(['_trackPageview']);\n",
       "\n",
       "\t  (function() {\n",
       "\t    var ga = document.createElement('script'); ga.type = 'text/javascript'; ga.async = true;\n",
       "\t    ga.src = ('https:' == document.location.protocol ? 'https://ssl' : 'http://www') + '.google-analytics.com/ga.js';\n",
       "\t    var s = document.getElementsByTagName('script')[0]; s.parentNode.insertBefore(ga, s);\n",
       "\t  })();\n",
       "\n",
       "\t</script>\n",
       "<script async=\"\" src=\"https://www.googletagmanager.com/gtag/js?id=G-KWJ86PXK65\"></script>\n",
       "<script>\n",
       "    window.dataLayer = window.dataLayer || [];\n",
       "    function gtag() { dataLayer.push(arguments); }\n",
       "    gtag('js', new Date());\n",
       "\n",
       "   // gtag('config', 'G-KWJ86PXK65');\n",
       "    gtag('config', 'KWJ86PXK65', { cookie_flags: 'SameSite=None;Secure' });\n",
       "</script>\n",
       "<script src=\"/Scripts/jquery.unobtrusive-ajax.min.js\" type=\"text/javascript\"></script>\n",
       "<script>\n",
       "        $(document).ready(function () {\n",
       "            $('.partialcontents').each(function (index, item) {\n",
       "                var url = $(item).data('url');\n",
       "                \n",
       "                if (url.length > 0) {\n",
       "                    $(item).load(url);\n",
       "                }\n",
       "            });\n",
       "        });\n",
       "    </script>\n",
       "<!-- Facebook Pixel Code -->\n",
       "<!-- End Facebook Pixel Code -->\n",
       "</head>\n",
       "<body>\n",
       "<header>\n",
       "<div class=\"hd-wrap\">\n",
       "<div class=\"logo\">\n",
       "<a href=\"/\"><img alt=\"Association of Mutual Funds in India\" height=\"61\" src=\"/Themes/Theme1/images/logo.png\" title=\"Association of Mutual Funds in India\" width=\"229\"/></a>\n",
       "</div>\n",
       "<nav>\n",
       "<ul class=\"top-nav\">\n",
       "<li class=\"'first'\"><a href=\"/press_release\">Press Release</a></li>\n",
       "<li><a href=\"/aboutamfi\">Know about AMFI</a></li>\n",
       "<li><a href=\"/useful-links\">Useful Links</a></li>\n",
       "<li><a href=\"/contact-us\">Contact Us</a></li>\n",
       "<li><a href=\"/careers\">Careers</a></li>\n",
       "<li class=\"'last'\"><a href=\"/kyc\">KYC</a></li>\n",
       "</ul>\n",
       "<a class=\"sprite-new home\" href=\"/\" title=\"Home\">Home</a>\n",
       "<div class=\"search-box\">\n",
       "<form action=\"/searchresult\" method=\"post\">\n",
       "<input class=\"serch-lft\" id=\"search\" name=\"search\" onblur=\"if(this.value=='') this.value='Search'\" onfocus=\"if(this.value=='Search') this.value='';\" type=\"text\" value=\"Search\"/>\n",
       "<input class=\"serchbox-rgt\" type=\"submit\" value=\"\"/>\n",
       "</form>\n",
       "</div>\n",
       "<div class=\"top-navigate\">\n",
       "<form action=\"/nav-history-download\" method=\"post\"> <ul>\n",
       "<li><a class=\"tp-main\" href=\"javascript:;\">Take me to...</a>\n",
       "<ul class=\"sub\">\n",
       "<li><a href=\"/investor-corner/\"> Investor Corner</a></li>\n",
       "<li><a href=\"/distributor-corner\">Distributor Corner</a></li>\n",
       "<li><a href=\"/research-information\">Research &amp; Information</a></li>\n",
       "</ul>\n",
       "</li>\n",
       "</ul>\n",
       "</form> \n",
       "</div>\n",
       "<a class=\"sprite-new rss mtop10\" href=\"/rss-feeds\"> </a>\n",
       "<br/>\n",
       "</nav>\n",
       "</div>\n",
       "<div class=\"clr\"></div>\n",
       "</header>\n",
       "<script>\n",
       "\t$(document).ready(function(){\n",
       "\t\t$('.top-nav li:nth-child(2)').find('a').attr('target','_blank');\n",
       "\t});\n",
       "\t</script>\n",
       "<div class=\"clr\"></div>\n",
       "<div class=\"container_12\">\n",
       "<!-- Mobile -->\n",
       "<div class=\"mbl-hme-wrapper\">\n",
       "<div class=\"top-navigate\">\n",
       "<form action=\"/nav-history-download\" method=\"post\"> <ul>\n",
       "<li><a class=\"tp-main\" href=\"javascript:;\">Take me to...</a>\n",
       "<ul class=\"sub\">\n",
       "<li><a href=\"/investor-corner\">New to Mutual Funds</a></li>\n",
       "<li><a href=\"/investor-corner\">Already an MF Investor</a></li>\n",
       "<li><a href=\"/distributor-corner\">Intermediary</a></li>\n",
       "<li><a href=\"/research-information\">Research &amp; Information</a></li>\n",
       "</ul>\n",
       "</li>\n",
       "</ul>\n",
       "</form> \n",
       "</div>\n",
       "</div>\n",
       "<!-- // -->\n",
       "<ul class=\"breadcrumb\">\n",
       "<li><a href=\"/\">Home</a></li>\n",
       "<li class=\"sprite-new arrow\"> </li>\n",
       "<li>NAV Download</li>\n",
       "</ul>\n",
       "<div class=\"clr\"></div>\n",
       "<div id=\"lightbx-overlay\"> </div>\n",
       "<div class=\"cont\" id=\"sknt-form\" style=\"padding-left:10px\">\n",
       "<p style=\"\"><a class=\"close\" href=\"#sknt-form\" style=\"color:#fff;text-decoration:none\"><img alt=\"\" src=\"/Themes/Theme1/images/close.png\"/></a></p>\n",
       "<h1>World Investor Week Nov 22-28, 2021</h1>\n",
       "<h1>Message from Chairman, SEBI</h1>\n",
       "<div class=\"sknt-form\">\n",
       "<table border=\"0\" cellpadding=\"0\" cellspacing=\"0\" id=\"tblSavingForm\">\n",
       "<tr>\n",
       "<td class=\"txt-lft\" width=\"100%\"><label class=\"label-important\"><a href=\"https://www.sebi.gov.in/sebi_data/commondocs/nov-2021/chm-msg-eng.pdf\" target=\"_blank\">Message from Shri Ajay Tyagi, Chairman, SEBI, on the occasion of World Investor Week - 2021</a></label><br/><br/><br/>\n",
       "<label class=\"label-important\"><a href=\"https://www.sebi.gov.in/sebi_data/commondocs/nov-2021/chm-msg-hin.pdf\" target=\"_blank\">विश्व निवेशक सप्ताह 202। के अवसर पर सेबी के अध्यक्ष श्री अजय त्यागी का संदेश</a></label>\n",
       "</td>\n",
       "</tr>\n",
       "</table>\n",
       "</div>\n",
       "<div class=\"clr\"></div>\n",
       "</div>\n",
       "<div data-mercury=\"full\" id=\"CenterContent\">\n",
       "<div class=\"common-content popup\">\n",
       "<form action=\"/nav-history-download?action=navhistorydownload&amp;controller=Modules&amp;Length=7\" data-ajax=\"true\" data-ajax-method=\"POST\" id=\"navhistorydownload\" method=\"post\"> <h2>Latest NAV</h2>\n",
       "<div class=\"nav-hist-dwnld\">\n",
       "<p align=\"center\" style=\"margin:20px 0 0;\"><a href=\"/spages/NAVAll.txt?t=29072024042939\" style=\"color:#20A7A4\" target=\"_blank\"><b>Download Complete NAV Report in Text Format</b></a></p>\n",
       "<p align=\"center\"><a href=\"/spages/NAVOpen.txt?t=29072024042939\" style=\"color:#20A7A4\" target=\"_blank\"><b>Open Ended NAV Report in Text Format</b></a> | <a href=\"/spages/NAVClose.txt?t=29072024042939\" style=\"color:#20A7A4\" target=\"_blank\"><b>Close Ended NAV Report in Text Format</b></a> | <a href=\"/spages/NAVInterval.txt?t=29072024042939\" style=\"color:#20A7A4\" target=\"_blank\"><b>Interval Fund NAV Report in Text Format</b></a></p>\n",
       "</div>\n",
       "<h2>Nav History</h2>\n",
       "<h4>(in text format)</h4>\n",
       "<table border=\"0\" cellpadding=\"0\" cellspacing=\"0\" class=\"nav-his-table\">\n",
       "<tbody>\n",
       "<tr>\n",
       "<td>\n",
       "<label><b>Select Mutual Fund</b></label>\n",
       "<div class=\"ui-widget auto-select\" id=\"divNavDownMFName\" style=\"margin-right: 20px;\">\n",
       "<select class=\"select\" id=\"NavDownMFName\" name=\"NavDownMFName\" onchange=\"return LoadNavHistoryDownload('0');\"><option value=\"\">--Select Mutual Fund--</option>\n",
       "<option value=\"-1\">All</option>\n",
       "<option value=\"62\">360 ONE Mutual Fund (Formerly Known as IIFL Mutual Fund)</option>\n",
       "<option value=\"39\">ABN  AMRO Mutual Fund</option>\n",
       "<option value=\"3\">Aditya Birla Sun Life Mutual Fund</option>\n",
       "<option value=\"50\">AEGON Mutual Fund</option>\n",
       "<option value=\"1\">Alliance Capital Mutual Fund</option>\n",
       "<option value=\"53\">Axis Mutual Fund</option>\n",
       "<option value=\"75\">Bajaj Finserv Mutual Fund</option>\n",
       "<option value=\"48\">Bandhan Mutual Fund</option>\n",
       "<option value=\"46\">Bank of India Mutual Fund</option>\n",
       "<option value=\"4\">Baroda BNP Paribas Mutual Fund</option>\n",
       "<option value=\"36\">Benchmark Mutual Fund</option>\n",
       "<option value=\"59\">BNP Paribas Mutual Fund</option>\n",
       "<option value=\"32\">Canara Robeco Mutual Fund</option>\n",
       "<option value=\"60\">Daiwa Mutual Fund</option>\n",
       "<option value=\"31\">DBS Chola Mutual Fund</option>\n",
       "<option value=\"38\">Deutsche Mutual Fund</option>\n",
       "<option value=\"6\">DSP Mutual Fund</option>\n",
       "<option value=\"47\">Edelweiss Mutual Fund</option>\n",
       "<option value=\"40\">Fidelity Mutual Fund</option>\n",
       "<option value=\"51\">Fortis Mutual Fund</option>\n",
       "<option value=\"27\">Franklin Templeton Mutual Fund</option>\n",
       "<option value=\"8\">GIC Mutual Fund</option>\n",
       "<option value=\"49\">Goldman Sachs Mutual Fund</option>\n",
       "<option value=\"63\">Groww Mutual Fund</option>\n",
       "<option value=\"9\">HDFC Mutual Fund</option>\n",
       "<option value=\"76\">Helios Mutual Fund</option>\n",
       "<option value=\"37\">HSBC Mutual Fund</option>\n",
       "<option value=\"20\">ICICI Prudential Mutual Fund</option>\n",
       "<option value=\"57\">IDBI Mutual Fund</option>\n",
       "<option value=\"11\">IL&amp;F S Mutual Fund</option>\n",
       "<option value=\"65\">IL&amp;FS Mutual Fund (IDF)</option>\n",
       "<option value=\"14\">ING Mutual Fund</option>\n",
       "<option value=\"42\">Invesco Mutual Fund</option>\n",
       "<option value=\"70\">ITI Mutual Fund</option>\n",
       "<option value=\"16\">JM Financial Mutual Fund</option>\n",
       "<option value=\"43\">JPMorgan Mutual Fund</option>\n",
       "<option value=\"17\">Kotak Mahindra Mutual Fund</option>\n",
       "<option value=\"56\">L&amp;T Mutual Fund</option>\n",
       "<option value=\"18\">LIC Mutual Fund</option>\n",
       "<option value=\"69\">Mahindra Manulife Mutual Fund</option>\n",
       "<option value=\"45\">Mirae Asset Mutual Fund</option>\n",
       "<option value=\"19\">Morgan Stanley Mutual Fund</option>\n",
       "<option value=\"55\">Motilal Oswal Mutual Fund</option>\n",
       "<option value=\"54\">Navi Mutual Fund</option>\n",
       "<option value=\"21\">Nippon India Mutual Fund</option>\n",
       "<option value=\"73\">NJ Mutual Fund</option>\n",
       "<option value=\"78\">Old Bridge Mutual Fund</option>\n",
       "<option value=\"58\">PGIM India Mutual Fund</option>\n",
       "<option value=\"44\">PineBridge Mutual Fund</option>\n",
       "<option value=\"34\">PNB Mutual Fund</option>\n",
       "<option value=\"64\">PPFAS Mutual Fund</option>\n",
       "<option value=\"10\">Principal Mutual Fund</option>\n",
       "<option value=\"13\">quant Mutual Fund</option>\n",
       "<option value=\"41\">Quantum Mutual Fund</option>\n",
       "<option value=\"74\">Samco Mutual Fund</option>\n",
       "<option value=\"22\">SBI Mutual Fund</option>\n",
       "<option value=\"52\">Shinsei Mutual Fund</option>\n",
       "<option value=\"67\">Shriram Mutual Fund</option>\n",
       "<option value=\"2\">Standard Chartered Mutual Fund</option>\n",
       "<option value=\"24\">SUN F&amp;C Mutual Fund</option>\n",
       "<option value=\"33\">Sundaram Mutual Fund</option>\n",
       "<option value=\"25\">Tata Mutual Fund</option>\n",
       "<option value=\"26\">Taurus Mutual Fund</option>\n",
       "<option value=\"72\">Trust Mutual Fund</option>\n",
       "<option value=\"61\">Union Mutual Fund</option>\n",
       "<option value=\"28\">UTI Mutual Fund</option>\n",
       "<option value=\"71\">WhiteOak Capital Mutual Fund</option>\n",
       "<option value=\"77\">Zerodha Mutual Fund</option>\n",
       "<option value=\"29\">Zurich India Mutual Fund</option>\n",
       "</select>\n",
       "<input name=\"#hdnMFDpdwn\" type=\"hidden\" value=\"\"/>\n",
       "</div>\n",
       "<label><b>Select Type</b></label>\n",
       "<div class=\"ui-widget auto-select\" id=\"divNavDownType\" style=\"margin-right: 20px;\">\n",
       "<select class=\"select\" id=\"NavDownType\" name=\"NavDownType\" onchange=\"return LoadNavHistoryDownload('0');\"><option value=\"\">--Select Type--</option>\n",
       "<option value=\"-1\">All</option>\n",
       "<option value=\"1\">Open Ended Schemes</option>\n",
       "<option value=\"2\">Close Ended Schemes</option>\n",
       "<option value=\"3\">Interval Fund</option>\n",
       "</select>\n",
       "<input id=\"hdnTypeDpdwn\" name=\"hdnTypeDpdwn\" type=\"hidden\" value=\"\"/>\n",
       "</div>\n",
       "</td>\n",
       "</tr>\n",
       "<tr>\n",
       "<td>\n",
       "<div class=\"date-pick-wrap\">\n",
       "<label id=\"NAVDate\"><b>From Date</b></label>\n",
       "<input class=\"datepicker hasDatepicker\" id=\"dpfrom\" onchange=\"javascript: return LoadNavHistoryDownload('1')\" type=\"text\"/><img alt=\"...\" class=\"ui-datepicker-trigger\" src=\"../Themes/Theme1/images/calendar.gif\" title=\"...\"/>\n",
       "</div>\n",
       "<div class=\"date-pick-wrap\" id=\"ToDatePicker\">\n",
       "<label><b>To Date</b></label>\n",
       "<input class=\"datepicker hasDatepicker\" id=\"dpto\" onchange=\"javascript: return LoadNavHistoryDownload('0')\" type=\"text\"/><img alt=\"...\" class=\"ui-datepicker-trigger\" src=\"../Themes/Theme1/images/calendar.gif\" title=\"...\"/>\n",
       "</div>\n",
       "<div class=\"download\" style=\"display:none;\">\n",
       "<a class=\"sprite-inter go-btn\" href=\"#\" id=\"hrDownload\" style=\"margin-top:5px\" target=\"_blank\"></a>\n",
       "</div>\n",
       "<style>\n",
       "                    div.datepicker {\n",
       "                        position: absolute;\n",
       "                        color: #000;\n",
       "                        background: #fff;\n",
       "                    }\n",
       "\n",
       "                        div.datepicker .prev, div.datepicker .next, div.datepicker .prev:hover, div.datepicker .next:hover {\n",
       "                            position: initial;\n",
       "                            background: #00AAA6;\n",
       "                        }\n",
       "\n",
       "                        div.datepicker thead tr:first-child th:hover, div.datepicker tfoot tr:first-child th:hover {\n",
       "                            background: #00AAA6;\n",
       "                        }\n",
       "\n",
       "                        div.datepicker th {\n",
       "                            color: #fff;\n",
       "                        }\n",
       "\n",
       "                        div.datepicker td, .datepicker th {\n",
       "                            border-radius: 0;\n",
       "                        }\n",
       "                </style>\n",
       "</td>\n",
       "</tr>\n",
       "<tr id=\"trNote\">\n",
       "<td><label style=\"margin-left:100px\"><b>Note : One can download historical NAV for a maximum period of 90 days at a time</b></label></td>\n",
       "</tr>\n",
       "</tbody>\n",
       "</table>\n",
       "<br/>\n",
       "<div class=\"clr\"></div>\n",
       "</form>\n",
       "</div>\n",
       "</div>\n",
       "<div data-mercury=\"full\" id=\"LeftContent\">\n",
       "          \n",
       "     </div>\n",
       "<div data-mercury=\"full\" id=\"RightContent\">\n",
       "         \n",
       "    </div>\n",
       "<div class=\"clr\"></div>\n",
       "</div>\n",
       "<footer id=\"FooterContent\">\n",
       "<div class=\"footer-top\">\n",
       "<div class=\"wrapper\"><a href=\"/nav-history-download\">Download NAV</a>   |   <a href=\"/schedule-of-investor-awareness-program\">Schedule of Investor Awareness Program</a>   |   <a href=\"/Themes/Theme1/downloads/Adoption-of-Districts.pdf\" target=\"_blank\">Districts Adopted</a>   |   <a href=\"/investor-corner/online-center/locate-amc-branches.aspx\" target=\"_blank\">AMC Branches</a>   |  <br/>  <a href=\"/mutual-fund-summit\">Mutual Fund Summit</a>   |   <a href=\"/videos\">Videos</a>   |    <a href=\"/web-help\">Web Help</a>   |  <a href=\"/downloads\">Downloads</a>   |   <a href=\"https://www.sebi.gov.in/\" target=\"_blank\" title=\"Securities and Exchange Board of India\">SEBI</a>   |   <a href=\"https://www.nism.ac.in/\" target=\"_blank\" title=\"National Institute of Securities Markets\">NISM</a>   |   <a href=\"/sitemap\">Sitemap</a></div>\n",
       "<!--&nbsp; <a href=\"/amfi-members-details\">AMFI Members</a> &nbsp; |   <div class=\"wrapper\"><a href=\"/nav-history-download\">Download NAV</a> &nbsp; | &nbsp; <a href=\"/schedule-of-investor-awareness-program\">Schedule of Investor Awareness Program</a> &nbsp; | &nbsp; <a href=\"/Themes/Theme1/downloads/Adoption-of-Districts.pdf\" target=\"_blank\">Districts Adopted</a> &nbsp; | &nbsp; <a href=\"/investor-corner/online-center/locate-amc-branches.aspx\" target=\"_blank\">AMC Branches</a> &nbsp; | &nbsp; <a href=\"/amfi-members-details\">AMFI Members</a> &nbsp; | <br />&nbsp; <a href=\"/mutual-fund-summit\">Mutual Fund Summit</a> &nbsp; | &nbsp; <a href=\"/videos\">Videos</a> &nbsp; | &nbsp;  &nbsp; | &nbsp; <a href=\"/web-help\">Web Help</a> &nbsp; | &nbsp;<a href=\"/downloads\">Downloads</a> &nbsp; | &nbsp; <a href=\"https://www.sebi.gov.in/\" title=\"Securities and Exchange Board of India\" target=\"_blank\">SEBI</a> &nbsp; | &nbsp; <a href=\"https://www.nism.ac.in/\" title=\"National Institute of Securities Markets\" target=\"_blank\">NISM</a> &nbsp; | &nbsp; <a href=\"/sitemap\">Sitemap</a></div> -->\n",
       "</div>\n",
       "<div class=\"wrapper\">\n",
       "<p class=\"fl\"><a href=\"/terms-of-use\">TERMS OF USE</a> | <a href=\"/privacy-notice\">PRIVACY NOTICE</a></p>\n",
       "<p class=\"fr\">© 2022 AMFI. All Rights Reserved</p>\n",
       "<div class=\"clr\" style=\"line-height:0\"> </div>\n",
       "</div>\n",
       "<!--<script type=\"text/javascript\">var switchTo5x=false;</script>\n",
       "<script type=\"text/javascript\" src=\"http://w.sharethis.com/button/buttons.js\"></script>\n",
       "<script type=\"text/javascript\">stLight.options({publisher: \"67c58512-b0c9-4242-b5b2-c26125eccfce\", doNotHash: false, doNotCopy: false, hashAddressBar: false});</script>-->\n",
       "<script type=\"text/javascript\">\n",
       "        $(document).ready(function () {\n",
       "\t\tvar windowWidth = $(window).width();\n",
       "\t\tif(windowWidth > 600){\n",
       "\t\t\t $.backstretch(\"/Themes/Theme1/images/bg-inner.jpg\");\n",
       "\t\t}\n",
       "        });\n",
       "    </script>\n",
       "<script type=\"text/javascript\">\n",
       "            var FO = { movie: \"/Themes/Theme1/flash/fundoo para.swf\", width: \"177\", height: \"345\", majorversion: \"8\", build: \"0\", xi: \"true\", wmode: \"transparent\" };\n",
       "            UFO.create(FO, \"flash-background\");\n",
       "        </script>\n",
       "</footer>\n",
       "<sc <=\"\" body=\"\">\n",
       "</sc></body></html>"
      ]
     },
     "execution_count": 10,
     "metadata": {},
     "output_type": "execute_result"
    }
   ],
   "source": [
    "soup = BeautifulSoup(response.text, 'html.parser')\n",
    "soup"
   ]
  },
  {
   "cell_type": "code",
   "execution_count": 11,
   "id": "d2c8bfb2-c991-45ed-bcef-7cc8f9f44076",
   "metadata": {},
   "outputs": [
    {
     "name": "stdout",
     "output_type": "stream",
     "text": [
      "[' --Select Mutual Fund--', '-1 All', '62 360 ONE Mutual Fund (Formerly Known as IIFL Mutual Fund)', '39 ABN  AMRO Mutual Fund', '3 Aditya Birla Sun Life Mutual Fund', '50 AEGON Mutual Fund', '1 Alliance Capital Mutual Fund', '53 Axis Mutual Fund', '75 Bajaj Finserv Mutual Fund', '48 Bandhan Mutual Fund', '46 Bank of India Mutual Fund', '4 Baroda BNP Paribas Mutual Fund', '36 Benchmark Mutual Fund', '59 BNP Paribas Mutual Fund', '32 Canara Robeco Mutual Fund', '60 Daiwa Mutual Fund', '31 DBS Chola Mutual Fund', '38 Deutsche Mutual Fund', '6 DSP Mutual Fund', '47 Edelweiss Mutual Fund', '40 Fidelity Mutual Fund', '51 Fortis Mutual Fund', '27 Franklin Templeton Mutual Fund', '8 GIC Mutual Fund', '49 Goldman Sachs Mutual Fund', '63 Groww Mutual Fund', '9 HDFC Mutual Fund', '76 Helios Mutual Fund', '37 HSBC Mutual Fund', '20 ICICI Prudential Mutual Fund', '57 IDBI Mutual Fund', '11 IL&amp;F S Mutual Fund', '65 IL&amp;FS Mutual Fund (IDF)', '14 ING Mutual Fund', '42 Invesco Mutual Fund', '70 ITI Mutual Fund', '16 JM Financial Mutual Fund', '43 JPMorgan Mutual Fund', '17 Kotak Mahindra Mutual Fund', '56 L&amp;T Mutual Fund', '18 LIC Mutual Fund', '69 Mahindra Manulife Mutual Fund', '45 Mirae Asset Mutual Fund', '19 Morgan Stanley Mutual Fund', '55 Motilal Oswal Mutual Fund', '54 Navi Mutual Fund', '21 Nippon India Mutual Fund', '73 NJ Mutual Fund', '78 Old Bridge Mutual Fund', '58 PGIM India Mutual Fund', '44 PineBridge Mutual Fund', '34 PNB Mutual Fund', '64 PPFAS Mutual Fund', '10 Principal Mutual Fund', '13 quant Mutual Fund', '41 Quantum Mutual Fund', '74 Samco Mutual Fund', '22 SBI Mutual Fund', '52 Shinsei Mutual Fund', '67 Shriram Mutual Fund', '2 Standard Chartered Mutual Fund', '24 SUN F&amp;C Mutual Fund', '33 Sundaram Mutual Fund', '25 Tata Mutual Fund', '26 Taurus Mutual Fund', '72 Trust Mutual Fund', '61 Union Mutual Fund', '28 UTI Mutual Fund', '71 WhiteOak Capital Mutual Fund', '77 Zerodha Mutual Fund', '29 Zurich India Mutual Fund']\n"
     ]
    }
   ],
   "source": [
    "NavDownMFName = []\n",
    "for op in soup.findAll('select',{'class': \"select\", 'id' : \"NavDownMFName\"})[0]:\n",
    "  str_op = str(op)[15:].split('\">')\n",
    "  if len(str_op)>1:\n",
    "    mf_code = str_op[0]\n",
    "    mf_desc = str_op[1].split('<')[0]\n",
    "    NavDownMFName.append((mf_code + ' ' + mf_desc))\n",
    "\n",
    "print(NavDownMFName)\n"
   ]
  },
  {
   "cell_type": "code",
   "execution_count": 12,
   "id": "2540bca2-2e11-4215-8c8a-7b9e81288881",
   "metadata": {},
   "outputs": [
    {
     "name": "stdout",
     "output_type": "stream",
     "text": [
      "[' --Select Type--', '-1 All', '1 Open Ended Schemes', '2 Close Ended Schemes', '3 Interval Fund']\n"
     ]
    }
   ],
   "source": [
    "NavDownType = []\n",
    "for op in soup.findAll('select',{'class': \"select\", 'id' : \"NavDownType\"})[0]:\n",
    "  str_op = str(op)[15:].split('\">')\n",
    "  if len(str_op)>1:\n",
    "    mf_code = str_op[0]\n",
    "    mf_desc = str_op[1].split('<')[0]\n",
    "    NavDownType.append((mf_code + ' ' + mf_desc))\n",
    "\n",
    "print(NavDownType)"
   ]
  },
  {
   "cell_type": "markdown",
   "id": "d98f55cd-e9d9-4490-bcb6-7b7f73ac3eea",
   "metadata": {},
   "source": [
    "## First Fund"
   ]
  },
  {
   "cell_type": "code",
   "execution_count": 80,
   "id": "cf3fa1d1-8792-4bf9-b213-a98e94dc9e1b",
   "metadata": {},
   "outputs": [],
   "source": [
    "mf_code = '3'\n",
    "mf_type = '1'\n",
    "frmdt = '07-Nov-2022'\n",
    "todt = '07-Jan-2023'"
   ]
  },
  {
   "cell_type": "code",
   "execution_count": 81,
   "id": "75756d8f-24c7-4503-ad0b-ea008159ca73",
   "metadata": {},
   "outputs": [
    {
     "name": "stdout",
     "output_type": "stream",
     "text": [
      "https://portal.amfiindia.com/DownloadNAVHistoryReport_Po.aspx?mf=3&tp=1&frmdt=07-Nov-2022&todt=07-Jan-2023\n"
     ]
    }
   ],
   "source": [
    "nav_url = \"https://portal.amfiindia.com/DownloadNAVHistoryReport_Po.aspx?mf=\" + mf_code + \"&tp=\" + mf_type + \"&frmdt=\" + frmdt + \"&todt=\" + todt\n",
    "print(nav_url)"
   ]
  },
  {
   "cell_type": "code",
   "execution_count": 87,
   "id": "6dd8d5ab-a867-4668-bc88-a70f6ca0e1e7",
   "metadata": {},
   "outputs": [],
   "source": [
    "response = requests.get(nav_url)"
   ]
  },
  {
   "cell_type": "code",
   "execution_count": 88,
   "id": "e7b8744f-92db-47fd-9911-79fcedad2c4a",
   "metadata": {},
   "outputs": [],
   "source": [
    "soup = BeautifulSoup(response.text, 'html.parser')"
   ]
  },
  {
   "cell_type": "code",
   "execution_count": 89,
   "id": "3aa665a2-167b-43ea-8235-770b25390105",
   "metadata": {},
   "outputs": [],
   "source": [
    "lines = soup.text.split('\\n')\n",
    "current_sublist = []\n",
    "headings = []\n",
    "data_lines = []\n",
    "for line in lines:\n",
    "  if (line.startswith(\"Open Ended Schemes\")):\n",
    "    headings.append(line)\n",
    "    data_lines.append(current_sublist)\n",
    "    current_sublist = []\n",
    "  else :\n",
    "    current_sublist.append(line)\n",
    "\n",
    "data_lines.append(current_sublist)"
   ]
  },
  {
   "cell_type": "code",
   "execution_count": 90,
   "id": "7026e7f3-f650-4f84-bf93-7534e8c77366",
   "metadata": {},
   "outputs": [],
   "source": [
    "data = data_lines[1]\n",
    "\n",
    "cleaned_data = [entry.strip() for entry in data if entry.strip()]\n",
    "\n",
    "# Skip the fund name line and split the remaining lines by ';'\n",
    "csv_data = [line.split(';') for line in cleaned_data[1:]]\n",
    "\n",
    "# Add headers (you can adjust these based on your data)\n",
    "headers = [\"Fund Code\", \"Fund Name\", \"ISIN Code 1\", \"ISIN Code 2\", \"NAV\", \"Unknown1\", \"Unknown2\", \"Date\"]\n",
    "\n",
    "# Prepare the CSV formatted string\n",
    "csv_string = ','.join(headers) + '\\n'\n",
    "for row in csv_data:\n",
    "    csv_string += ','.join(row) + '\\n'\n",
    "\n",
    "# Write to a CSV file\n",
    "with open('mutual_funds1.csv', 'w') as file:\n",
    "    file.write(csv_string)"
   ]
  },
  {
   "cell_type": "code",
   "execution_count": 93,
   "id": "ca5fd05f-00c0-48e8-b928-6945fb2bd67e",
   "metadata": {},
   "outputs": [],
   "source": [
    "data_frame = pd.read_csv(\"mutual_funds1.csv\")"
   ]
  },
  {
   "cell_type": "code",
   "execution_count": 127,
   "id": "230816a7-96bb-4f6d-93b3-5762875b13cd",
   "metadata": {},
   "outputs": [
    {
     "name": "stdout",
     "output_type": "stream",
     "text": [
      "-2.4710424710424594\n",
      "12.63\n",
      "12.95\n"
     ]
    }
   ],
   "source": [
    "\n",
    "\n",
    "last_date = data_frame['NAV'][(data_frame['Date']=='06-Jan-2023') & (data_frame['Fund Name']=='Aditya Birla Sun Life Multi-Cap Fund-Direct Growth')].values[0]\n",
    "first_date = data_frame['NAV'][(data_frame['Date']=='07-Nov-2022') & (data_frame['Fund Name']=='Aditya Birla Sun Life Multi-Cap Fund-Direct Growth')].values[0]\n",
    "return_1_month_fund1 = ((last_date - first_date)/first_date)*100\n",
    "print(return_1_month_fund1)\n",
    "print(last_date)\n",
    "print(first_date)"
   ]
  },
  {
   "cell_type": "markdown",
   "id": "7545d719-7d38-40cb-b1b9-22656b85488f",
   "metadata": {},
   "source": [
    "## Second Fund"
   ]
  },
  {
   "cell_type": "code",
   "execution_count": 98,
   "id": "030e40c0-82c4-4a15-8610-d6c527a1e7dc",
   "metadata": {},
   "outputs": [],
   "source": [
    "mf_code = '53'\n",
    "mf_type = '1'\n",
    "frmdt = '07-Nov-2022'\n",
    "todt = '07-Jan-2023'"
   ]
  },
  {
   "cell_type": "code",
   "execution_count": 99,
   "id": "8f564ff5-ac08-4a6b-8e69-72edf63b7205",
   "metadata": {},
   "outputs": [
    {
     "name": "stdout",
     "output_type": "stream",
     "text": [
      "https://portal.amfiindia.com/DownloadNAVHistoryReport_Po.aspx?mf=53&tp=1&frmdt=07-Nov-2022&todt=07-Jan-2023\n"
     ]
    }
   ],
   "source": [
    "nav_url = \"https://portal.amfiindia.com/DownloadNAVHistoryReport_Po.aspx?mf=\" + mf_code + \"&tp=\" + mf_type + \"&frmdt=\" + frmdt + \"&todt=\" + todt\n",
    "print(nav_url)"
   ]
  },
  {
   "cell_type": "code",
   "execution_count": 100,
   "id": "ba74263b-886c-4135-914d-f761bc59e705",
   "metadata": {},
   "outputs": [],
   "source": [
    "response = requests.get(nav_url)\n",
    "soup = BeautifulSoup(response.text, 'html.parser')"
   ]
  },
  {
   "cell_type": "code",
   "execution_count": 101,
   "id": "5a23b940-f510-494b-82c5-6a4a45fb2c92",
   "metadata": {},
   "outputs": [],
   "source": [
    "lines = soup.text.split('\\n')\n",
    "current_sublist = []\n",
    "headings = []\n",
    "data_lines = []\n",
    "for line in lines:\n",
    "  if (line.startswith(\"Open Ended Schemes\")):\n",
    "    headings.append(line)\n",
    "    data_lines.append(current_sublist)\n",
    "    current_sublist = []\n",
    "  else :\n",
    "    current_sublist.append(line)\n",
    "\n",
    "data_lines.append(current_sublist)"
   ]
  },
  {
   "cell_type": "code",
   "execution_count": 102,
   "id": "24d3dce1-86cc-4ef1-b77e-57233ab1316a",
   "metadata": {},
   "outputs": [],
   "source": [
    "data = data_lines[1]\n",
    "\n",
    "cleaned_data = [entry.strip() for entry in data if entry.strip()]\n",
    "\n",
    "# Skip the fund name line and split the remaining lines by ';'\n",
    "csv_data = [line.split(';') for line in cleaned_data[1:]]\n",
    "\n",
    "# Add headers (you can adjust these based on your data)\n",
    "headers = [\"Fund Code\", \"Fund Name\", \"ISIN Code 1\", \"ISIN Code 2\", \"NAV\", \"Unknown1\", \"Unknown2\", \"Date\"]\n",
    "\n",
    "# Prepare the CSV formatted string\n",
    "csv_string = ','.join(headers) + '\\n'\n",
    "for row in csv_data:\n",
    "    csv_string += ','.join(row) + '\\n'\n",
    "\n",
    "# Write to a CSV file\n",
    "with open('mutual_funds.csv', 'w') as file:\n",
    "    file.write(csv_string)"
   ]
  },
  {
   "cell_type": "code",
   "execution_count": 104,
   "id": "017c4285-6f70-41bf-9ddf-d28d77348618",
   "metadata": {},
   "outputs": [
    {
     "data": {
      "text/plain": [
       "'Axis Multicap Fund - Direct Growth'"
      ]
     },
     "execution_count": 104,
     "metadata": {},
     "output_type": "execute_result"
    }
   ],
   "source": [
    "data_frame2 = pd.read_csv(\"mutual_funds.csv\")\n",
    "data_frame2['Fund Name'][0]"
   ]
  },
  {
   "cell_type": "code",
   "execution_count": 125,
   "id": "d41500f1-95df-4b22-91e3-8e65893745b2",
   "metadata": {},
   "outputs": [
    {
     "name": "stdout",
     "output_type": "stream",
     "text": [
      "-3.6203522504892462\n"
     ]
    }
   ],
   "source": [
    "\n",
    "last_date = data_frame2['NAV'][(data_frame2['Date']=='06-Jan-2023') & (data_frame2['Fund Name']=='Axis Multicap Fund - Direct Growth')].values[0]\n",
    "first_date = data_frame2['NAV'][(data_frame2['Date']=='07-Nov-2022') & (data_frame2['Fund Name']=='Axis Multicap Fund - Direct Growth')].values[0]\n",
    "return_1_month_fund2 = ((last_date - first_date)/first_date)*100\n",
    "print(return_1_month_fund2)\n"
   ]
  },
  {
   "cell_type": "code",
   "execution_count": 114,
   "id": "e907e2ce-e543-4ac0-b71b-18ec6aa7cf25",
   "metadata": {},
   "outputs": [
    {
     "data": {
      "text/html": [
       "<div>\n",
       "<style scoped>\n",
       "    .dataframe tbody tr th:only-of-type {\n",
       "        vertical-align: middle;\n",
       "    }\n",
       "\n",
       "    .dataframe tbody tr th {\n",
       "        vertical-align: top;\n",
       "    }\n",
       "\n",
       "    .dataframe thead th {\n",
       "        text-align: right;\n",
       "    }\n",
       "</style>\n",
       "<table border=\"1\" class=\"dataframe\">\n",
       "  <thead>\n",
       "    <tr style=\"text-align: right;\">\n",
       "      <th></th>\n",
       "      <th>Fund Code</th>\n",
       "      <th>Fund Name</th>\n",
       "      <th>NAV</th>\n",
       "      <th>Date</th>\n",
       "    </tr>\n",
       "  </thead>\n",
       "  <tbody>\n",
       "    <tr>\n",
       "      <th>0</th>\n",
       "      <td>149383</td>\n",
       "      <td>Axis Multicap Fund - Direct Growth</td>\n",
       "      <td>10.22</td>\n",
       "      <td>07-Nov-2022</td>\n",
       "    </tr>\n",
       "    <tr>\n",
       "      <th>1</th>\n",
       "      <td>149383</td>\n",
       "      <td>Axis Multicap Fund - Direct Growth</td>\n",
       "      <td>10.18</td>\n",
       "      <td>09-Nov-2022</td>\n",
       "    </tr>\n",
       "    <tr>\n",
       "      <th>2</th>\n",
       "      <td>149383</td>\n",
       "      <td>Axis Multicap Fund - Direct Growth</td>\n",
       "      <td>10.09</td>\n",
       "      <td>10-Nov-2022</td>\n",
       "    </tr>\n",
       "    <tr>\n",
       "      <th>3</th>\n",
       "      <td>149383</td>\n",
       "      <td>Axis Multicap Fund - Direct Growth</td>\n",
       "      <td>10.16</td>\n",
       "      <td>11-Nov-2022</td>\n",
       "    </tr>\n",
       "    <tr>\n",
       "      <th>4</th>\n",
       "      <td>149383</td>\n",
       "      <td>Axis Multicap Fund - Direct Growth</td>\n",
       "      <td>10.20</td>\n",
       "      <td>14-Nov-2022</td>\n",
       "    </tr>\n",
       "    <tr>\n",
       "      <th>...</th>\n",
       "      <td>...</td>\n",
       "      <td>...</td>\n",
       "      <td>...</td>\n",
       "      <td>...</td>\n",
       "    </tr>\n",
       "    <tr>\n",
       "      <th>171</th>\n",
       "      <td>149387</td>\n",
       "      <td>Axis Multicap Fund - Regular Plan - IDCW</td>\n",
       "      <td>9.91</td>\n",
       "      <td>02-Jan-2023</td>\n",
       "    </tr>\n",
       "    <tr>\n",
       "      <th>172</th>\n",
       "      <td>149387</td>\n",
       "      <td>Axis Multicap Fund - Regular Plan - IDCW</td>\n",
       "      <td>9.92</td>\n",
       "      <td>03-Jan-2023</td>\n",
       "    </tr>\n",
       "    <tr>\n",
       "      <th>173</th>\n",
       "      <td>149387</td>\n",
       "      <td>Axis Multicap Fund - Regular Plan - IDCW</td>\n",
       "      <td>9.82</td>\n",
       "      <td>04-Jan-2023</td>\n",
       "    </tr>\n",
       "    <tr>\n",
       "      <th>174</th>\n",
       "      <td>149387</td>\n",
       "      <td>Axis Multicap Fund - Regular Plan - IDCW</td>\n",
       "      <td>9.79</td>\n",
       "      <td>05-Jan-2023</td>\n",
       "    </tr>\n",
       "    <tr>\n",
       "      <th>175</th>\n",
       "      <td>149387</td>\n",
       "      <td>Axis Multicap Fund - Regular Plan - IDCW</td>\n",
       "      <td>9.69</td>\n",
       "      <td>06-Jan-2023</td>\n",
       "    </tr>\n",
       "  </tbody>\n",
       "</table>\n",
       "<p>176 rows × 4 columns</p>\n",
       "</div>"
      ],
      "text/plain": [
       "     Fund Code                                 Fund Name    NAV         Date\n",
       "0       149383        Axis Multicap Fund - Direct Growth  10.22  07-Nov-2022\n",
       "1       149383        Axis Multicap Fund - Direct Growth  10.18  09-Nov-2022\n",
       "2       149383        Axis Multicap Fund - Direct Growth  10.09  10-Nov-2022\n",
       "3       149383        Axis Multicap Fund - Direct Growth  10.16  11-Nov-2022\n",
       "4       149383        Axis Multicap Fund - Direct Growth  10.20  14-Nov-2022\n",
       "..         ...                                       ...    ...          ...\n",
       "171     149387  Axis Multicap Fund - Regular Plan - IDCW   9.91  02-Jan-2023\n",
       "172     149387  Axis Multicap Fund - Regular Plan - IDCW   9.92  03-Jan-2023\n",
       "173     149387  Axis Multicap Fund - Regular Plan - IDCW   9.82  04-Jan-2023\n",
       "174     149387  Axis Multicap Fund - Regular Plan - IDCW   9.79  05-Jan-2023\n",
       "175     149387  Axis Multicap Fund - Regular Plan - IDCW   9.69  06-Jan-2023\n",
       "\n",
       "[176 rows x 4 columns]"
      ]
     },
     "execution_count": 114,
     "metadata": {},
     "output_type": "execute_result"
    }
   ],
   "source": [
    "data_frame2"
   ]
  },
  {
   "cell_type": "code",
   "execution_count": 106,
   "id": "efda0d81-2e5c-4259-8b63-b0e5dcac0afa",
   "metadata": {},
   "outputs": [],
   "source": [
    "data_frame2= data_frame2.drop(['ISIN Code 1','ISIN Code 2','Unknown1','Unknown2'],axis =1)"
   ]
  },
  {
   "cell_type": "code",
   "execution_count": 107,
   "id": "13034f18-1b01-41c0-a607-b6c9cd0e68a3",
   "metadata": {},
   "outputs": [],
   "source": [
    "data_frame = data_frame.drop(['ISIN Code 1','ISIN Code 2','Unknown1','Unknown2'],axis =1)"
   ]
  },
  {
   "cell_type": "code",
   "execution_count": 138,
   "id": "2b991e9a-8458-4da2-bcfd-ac79dc39a10b",
   "metadata": {},
   "outputs": [],
   "source": [
    "data_frame3 = data_frame3.drop(['ISIN Code 1','ISIN Code 2','Unknown1','Unknown2'],axis =1)\n",
    "data_frame4 = data_frame4.drop(['ISIN Code 1','ISIN Code 2','Unknown1','Unknown2'],axis =1)"
   ]
  },
  {
   "cell_type": "markdown",
   "id": "e7aea803-724b-456f-add5-22febb8b23b0",
   "metadata": {},
   "source": [
    "### Third Fund"
   ]
  },
  {
   "cell_type": "code",
   "execution_count": 115,
   "id": "da898852-4d38-4434-83d3-274c706b29b5",
   "metadata": {},
   "outputs": [],
   "source": [
    "mf_code = '48'\n",
    "mf_type = '1'\n",
    "frmdt = '07-Nov-2022'\n",
    "todt = '07-Jan-2023'"
   ]
  },
  {
   "cell_type": "code",
   "execution_count": 116,
   "id": "fa0bfb1a-3df6-4082-b276-9ccd13a2b258",
   "metadata": {},
   "outputs": [
    {
     "name": "stdout",
     "output_type": "stream",
     "text": [
      "https://portal.amfiindia.com/DownloadNAVHistoryReport_Po.aspx?mf=48&tp=1&frmdt=07-Nov-2022&todt=07-Jan-2023\n"
     ]
    }
   ],
   "source": [
    "nav_url = \"https://portal.amfiindia.com/DownloadNAVHistoryReport_Po.aspx?mf=\" + mf_code + \"&tp=\" + mf_type + \"&frmdt=\" + frmdt + \"&todt=\" + todt\n",
    "print(nav_url)"
   ]
  },
  {
   "cell_type": "code",
   "execution_count": 117,
   "id": "f7e67864-3ccb-4397-be3d-635891a62c97",
   "metadata": {},
   "outputs": [],
   "source": [
    "response = requests.get(nav_url)\n",
    "soup = BeautifulSoup(response.text, 'html.parser')"
   ]
  },
  {
   "cell_type": "code",
   "execution_count": 118,
   "id": "15d15732-b125-433f-aac0-47ec34927249",
   "metadata": {},
   "outputs": [],
   "source": [
    "lines = soup.text.split('\\n')\n",
    "current_sublist = []\n",
    "headings = []\n",
    "data_lines = []\n",
    "for line in lines:\n",
    "  if (line.startswith(\"Open Ended Schemes\")):\n",
    "    headings.append(line)\n",
    "    data_lines.append(current_sublist)\n",
    "    current_sublist = []\n",
    "  else :\n",
    "    current_sublist.append(line)\n",
    "\n",
    "data_lines.append(current_sublist)"
   ]
  },
  {
   "cell_type": "code",
   "execution_count": 119,
   "id": "107caecc-486a-42d8-a522-d53b7ce53175",
   "metadata": {},
   "outputs": [],
   "source": [
    "data = data_lines[1]\n",
    "\n",
    "cleaned_data = [entry.strip() for entry in data if entry.strip()]\n",
    "\n",
    "# Skip the fund name line and split the remaining lines by ';'\n",
    "csv_data = [line.split(';') for line in cleaned_data[1:]]\n",
    "\n",
    "# Add headers (you can adjust these based on your data)\n",
    "headers = [\"Fund Code\", \"Fund Name\", \"ISIN Code 1\", \"ISIN Code 2\", \"NAV\", \"Unknown1\", \"Unknown2\", \"Date\"]\n",
    "\n",
    "# Prepare the CSV formatted string\n",
    "csv_string = ','.join(headers) + '\\n'\n",
    "for row in csv_data:\n",
    "    csv_string += ','.join(row) + '\\n'\n",
    "\n",
    "# Write to a CSV file\n",
    "with open('mutual_funds3.csv', 'w') as file:\n",
    "    file.write(csv_string)"
   ]
  },
  {
   "cell_type": "code",
   "execution_count": 123,
   "id": "270f945e-7064-4e2c-9608-55489cbc3ede",
   "metadata": {},
   "outputs": [
    {
     "data": {
      "text/html": [
       "<div>\n",
       "<style scoped>\n",
       "    .dataframe tbody tr th:only-of-type {\n",
       "        vertical-align: middle;\n",
       "    }\n",
       "\n",
       "    .dataframe tbody tr th {\n",
       "        vertical-align: top;\n",
       "    }\n",
       "\n",
       "    .dataframe thead th {\n",
       "        text-align: right;\n",
       "    }\n",
       "</style>\n",
       "<table border=\"1\" class=\"dataframe\">\n",
       "  <thead>\n",
       "    <tr style=\"text-align: right;\">\n",
       "      <th></th>\n",
       "      <th>Fund Code</th>\n",
       "      <th>Fund Name</th>\n",
       "      <th>ISIN Code 1</th>\n",
       "      <th>ISIN Code 2</th>\n",
       "      <th>NAV</th>\n",
       "      <th>Unknown1</th>\n",
       "      <th>Unknown2</th>\n",
       "      <th>Date</th>\n",
       "    </tr>\n",
       "  </thead>\n",
       "  <tbody>\n",
       "    <tr>\n",
       "      <th>0</th>\n",
       "      <td>149303</td>\n",
       "      <td>BANDHAN MULTI CAP FUND - GROWTH - DIRECT PLAN</td>\n",
       "      <td>INF194KB1CL0</td>\n",
       "      <td>NaN</td>\n",
       "      <td>10.905</td>\n",
       "      <td>NaN</td>\n",
       "      <td>NaN</td>\n",
       "      <td>07-Nov-2022</td>\n",
       "    </tr>\n",
       "    <tr>\n",
       "      <th>1</th>\n",
       "      <td>149303</td>\n",
       "      <td>BANDHAN MULTI CAP FUND - GROWTH - DIRECT PLAN</td>\n",
       "      <td>INF194KB1CL0</td>\n",
       "      <td>NaN</td>\n",
       "      <td>10.892</td>\n",
       "      <td>NaN</td>\n",
       "      <td>NaN</td>\n",
       "      <td>09-Nov-2022</td>\n",
       "    </tr>\n",
       "    <tr>\n",
       "      <th>2</th>\n",
       "      <td>149303</td>\n",
       "      <td>BANDHAN MULTI CAP FUND - GROWTH - DIRECT PLAN</td>\n",
       "      <td>INF194KB1CL0</td>\n",
       "      <td>NaN</td>\n",
       "      <td>10.767</td>\n",
       "      <td>NaN</td>\n",
       "      <td>NaN</td>\n",
       "      <td>10-Nov-2022</td>\n",
       "    </tr>\n",
       "    <tr>\n",
       "      <th>3</th>\n",
       "      <td>149303</td>\n",
       "      <td>BANDHAN MULTI CAP FUND - GROWTH - DIRECT PLAN</td>\n",
       "      <td>INF194KB1CL0</td>\n",
       "      <td>NaN</td>\n",
       "      <td>10.839</td>\n",
       "      <td>NaN</td>\n",
       "      <td>NaN</td>\n",
       "      <td>11-Nov-2022</td>\n",
       "    </tr>\n",
       "    <tr>\n",
       "      <th>4</th>\n",
       "      <td>149303</td>\n",
       "      <td>BANDHAN MULTI CAP FUND - GROWTH - DIRECT PLAN</td>\n",
       "      <td>INF194KB1CL0</td>\n",
       "      <td>NaN</td>\n",
       "      <td>10.833</td>\n",
       "      <td>NaN</td>\n",
       "      <td>NaN</td>\n",
       "      <td>14-Nov-2022</td>\n",
       "    </tr>\n",
       "    <tr>\n",
       "      <th>...</th>\n",
       "      <td>...</td>\n",
       "      <td>...</td>\n",
       "      <td>...</td>\n",
       "      <td>...</td>\n",
       "      <td>...</td>\n",
       "      <td>...</td>\n",
       "      <td>...</td>\n",
       "      <td>...</td>\n",
       "    </tr>\n",
       "    <tr>\n",
       "      <th>171</th>\n",
       "      <td>149302</td>\n",
       "      <td>BANDHAN MULTI CAP FUND - IDCW - REGULAR PLAN</td>\n",
       "      <td>INF194KB1CJ4</td>\n",
       "      <td>INF194KB1CK2</td>\n",
       "      <td>10.828</td>\n",
       "      <td>NaN</td>\n",
       "      <td>NaN</td>\n",
       "      <td>02-Jan-2023</td>\n",
       "    </tr>\n",
       "    <tr>\n",
       "      <th>172</th>\n",
       "      <td>149302</td>\n",
       "      <td>BANDHAN MULTI CAP FUND - IDCW - REGULAR PLAN</td>\n",
       "      <td>INF194KB1CJ4</td>\n",
       "      <td>INF194KB1CK2</td>\n",
       "      <td>10.870</td>\n",
       "      <td>NaN</td>\n",
       "      <td>NaN</td>\n",
       "      <td>03-Jan-2023</td>\n",
       "    </tr>\n",
       "    <tr>\n",
       "      <th>173</th>\n",
       "      <td>149302</td>\n",
       "      <td>BANDHAN MULTI CAP FUND - IDCW - REGULAR PLAN</td>\n",
       "      <td>INF194KB1CJ4</td>\n",
       "      <td>INF194KB1CK2</td>\n",
       "      <td>10.785</td>\n",
       "      <td>NaN</td>\n",
       "      <td>NaN</td>\n",
       "      <td>04-Jan-2023</td>\n",
       "    </tr>\n",
       "    <tr>\n",
       "      <th>174</th>\n",
       "      <td>149302</td>\n",
       "      <td>BANDHAN MULTI CAP FUND - IDCW - REGULAR PLAN</td>\n",
       "      <td>INF194KB1CJ4</td>\n",
       "      <td>INF194KB1CK2</td>\n",
       "      <td>10.784</td>\n",
       "      <td>NaN</td>\n",
       "      <td>NaN</td>\n",
       "      <td>05-Jan-2023</td>\n",
       "    </tr>\n",
       "    <tr>\n",
       "      <th>175</th>\n",
       "      <td>149302</td>\n",
       "      <td>BANDHAN MULTI CAP FUND - IDCW - REGULAR PLAN</td>\n",
       "      <td>INF194KB1CJ4</td>\n",
       "      <td>INF194KB1CK2</td>\n",
       "      <td>10.694</td>\n",
       "      <td>NaN</td>\n",
       "      <td>NaN</td>\n",
       "      <td>06-Jan-2023</td>\n",
       "    </tr>\n",
       "  </tbody>\n",
       "</table>\n",
       "<p>176 rows × 8 columns</p>\n",
       "</div>"
      ],
      "text/plain": [
       "     Fund Code                                      Fund Name   ISIN Code 1  \\\n",
       "0       149303  BANDHAN MULTI CAP FUND - GROWTH - DIRECT PLAN  INF194KB1CL0   \n",
       "1       149303  BANDHAN MULTI CAP FUND - GROWTH - DIRECT PLAN  INF194KB1CL0   \n",
       "2       149303  BANDHAN MULTI CAP FUND - GROWTH - DIRECT PLAN  INF194KB1CL0   \n",
       "3       149303  BANDHAN MULTI CAP FUND - GROWTH - DIRECT PLAN  INF194KB1CL0   \n",
       "4       149303  BANDHAN MULTI CAP FUND - GROWTH - DIRECT PLAN  INF194KB1CL0   \n",
       "..         ...                                            ...           ...   \n",
       "171     149302   BANDHAN MULTI CAP FUND - IDCW - REGULAR PLAN  INF194KB1CJ4   \n",
       "172     149302   BANDHAN MULTI CAP FUND - IDCW - REGULAR PLAN  INF194KB1CJ4   \n",
       "173     149302   BANDHAN MULTI CAP FUND - IDCW - REGULAR PLAN  INF194KB1CJ4   \n",
       "174     149302   BANDHAN MULTI CAP FUND - IDCW - REGULAR PLAN  INF194KB1CJ4   \n",
       "175     149302   BANDHAN MULTI CAP FUND - IDCW - REGULAR PLAN  INF194KB1CJ4   \n",
       "\n",
       "      ISIN Code 2     NAV  Unknown1  Unknown2         Date  \n",
       "0             NaN  10.905       NaN       NaN  07-Nov-2022  \n",
       "1             NaN  10.892       NaN       NaN  09-Nov-2022  \n",
       "2             NaN  10.767       NaN       NaN  10-Nov-2022  \n",
       "3             NaN  10.839       NaN       NaN  11-Nov-2022  \n",
       "4             NaN  10.833       NaN       NaN  14-Nov-2022  \n",
       "..            ...     ...       ...       ...          ...  \n",
       "171  INF194KB1CK2  10.828       NaN       NaN  02-Jan-2023  \n",
       "172  INF194KB1CK2  10.870       NaN       NaN  03-Jan-2023  \n",
       "173  INF194KB1CK2  10.785       NaN       NaN  04-Jan-2023  \n",
       "174  INF194KB1CK2  10.784       NaN       NaN  05-Jan-2023  \n",
       "175  INF194KB1CK2  10.694       NaN       NaN  06-Jan-2023  \n",
       "\n",
       "[176 rows x 8 columns]"
      ]
     },
     "execution_count": 123,
     "metadata": {},
     "output_type": "execute_result"
    }
   ],
   "source": [
    "data_frame3 = pd.read_csv(\"mutual_funds3.csv\")\n",
    "data_frame3\n"
   ]
  },
  {
   "cell_type": "code",
   "execution_count": 124,
   "id": "ab4b8e60-589e-44cd-9597-978d132d1af8",
   "metadata": {},
   "outputs": [
    {
     "name": "stdout",
     "output_type": "stream",
     "text": [
      "-0.05502063273727857\n"
     ]
    }
   ],
   "source": [
    "last_date = data_frame3['NAV'][(data_frame3['Date']=='06-Jan-2023') & (data_frame3['Fund Name']=='BANDHAN MULTI CAP FUND - GROWTH - DIRECT PLAN')].values[0]\n",
    "first_date = data_frame3['NAV'][(data_frame3['Date']=='07-Nov-2022') & (data_frame3['Fund Name']=='BANDHAN MULTI CAP FUND - GROWTH - DIRECT PLAN')].values[0]\n",
    "return_1_month_fund2 = ((last_date - first_date)/first_date)*100\n",
    "print(return_1_month_fund2)"
   ]
  },
  {
   "cell_type": "markdown",
   "id": "a4def37d-6d6e-4554-9a89-c30a8db4864d",
   "metadata": {},
   "source": [
    "### Fourth Fund"
   ]
  },
  {
   "cell_type": "code",
   "execution_count": 128,
   "id": "f0a56189-15e4-4092-b8e2-35f3d5afc5e5",
   "metadata": {},
   "outputs": [],
   "source": [
    "mf_code = '4'\n",
    "mf_type = '1'\n",
    "frmdt = '07-Nov-2022'\n",
    "todt = '07-Jan-2023'"
   ]
  },
  {
   "cell_type": "code",
   "execution_count": 129,
   "id": "6304cd64-fe55-499b-b8d6-4c7d8d305705",
   "metadata": {},
   "outputs": [
    {
     "name": "stdout",
     "output_type": "stream",
     "text": [
      "https://portal.amfiindia.com/DownloadNAVHistoryReport_Po.aspx?mf=4&tp=1&frmdt=07-Nov-2022&todt=07-Jan-2023\n"
     ]
    }
   ],
   "source": [
    "nav_url = \"https://portal.amfiindia.com/DownloadNAVHistoryReport_Po.aspx?mf=\" + mf_code + \"&tp=\" + mf_type + \"&frmdt=\" + frmdt + \"&todt=\" + todt\n",
    "print(nav_url)"
   ]
  },
  {
   "cell_type": "code",
   "execution_count": 130,
   "id": "aa203f1e-f7a0-4717-9d8a-bcff6d0ee54a",
   "metadata": {},
   "outputs": [],
   "source": [
    "response = requests.get(nav_url)\n",
    "soup = BeautifulSoup(response.text, 'html.parser')"
   ]
  },
  {
   "cell_type": "code",
   "execution_count": 131,
   "id": "0a7942e5-4df3-4eb9-a643-dcd895ee661c",
   "metadata": {},
   "outputs": [],
   "source": [
    "lines = soup.text.split('\\n')\n",
    "current_sublist = []\n",
    "headings = []\n",
    "data_lines = []\n",
    "for line in lines:\n",
    "  if (line.startswith(\"Open Ended Schemes\")):\n",
    "    headings.append(line)\n",
    "    data_lines.append(current_sublist)\n",
    "    current_sublist = []\n",
    "  else :\n",
    "    current_sublist.append(line)\n",
    "\n",
    "data_lines.append(current_sublist)"
   ]
  },
  {
   "cell_type": "code",
   "execution_count": 132,
   "id": "4a2eaa39-eb3b-4803-8427-c34a6e46b2d8",
   "metadata": {},
   "outputs": [],
   "source": [
    "data = data_lines[1]\n",
    "\n",
    "cleaned_data = [entry.strip() for entry in data if entry.strip()]\n",
    "\n",
    "# Skip the fund name line and split the remaining lines by ';'\n",
    "csv_data = [line.split(';') for line in cleaned_data[1:]]\n",
    "\n",
    "# Add headers (you can adjust these based on your data)\n",
    "headers = [\"Fund Code\", \"Fund Name\", \"ISIN Code 1\", \"ISIN Code 2\", \"NAV\", \"Unknown1\", \"Unknown2\", \"Date\"]\n",
    "\n",
    "# Prepare the CSV formatted string\n",
    "csv_string = ','.join(headers) + '\\n'\n",
    "for row in csv_data:\n",
    "    csv_string += ','.join(row) + '\\n'\n",
    "\n",
    "# Write to a CSV file\n",
    "with open('mutual_funds4.csv', 'w') as file:\n",
    "    file.write(csv_string)"
   ]
  },
  {
   "cell_type": "code",
   "execution_count": 134,
   "id": "515aa952-4c5a-475b-b5a9-8b17e06afe21",
   "metadata": {},
   "outputs": [
    {
     "data": {
      "text/plain": [
       "'Baroda BNP Paribas MULTI CAP FUND - Direct Plan - Growth Option'"
      ]
     },
     "execution_count": 134,
     "metadata": {},
     "output_type": "execute_result"
    }
   ],
   "source": [
    "data_frame4 = pd.read_csv('mutual_funds4.csv')\n",
    "data_frame4['Fund Name'][0]"
   ]
  },
  {
   "cell_type": "code",
   "execution_count": 136,
   "id": "a51809c9-2f11-41c3-bbd6-f6b7808fa074",
   "metadata": {},
   "outputs": [
    {
     "name": "stdout",
     "output_type": "stream",
     "text": [
      "-1.68433032072277\n"
     ]
    }
   ],
   "source": [
    "last_date = data_frame4['NAV'][(data_frame4['Date']=='06-Jan-2023') & (data_frame4['Fund Name']=='Baroda BNP Paribas MULTI CAP FUND - Direct Plan - Growth Option')].values[0]\n",
    "first_date = data_frame4['NAV'][(data_frame4['Date']=='07-Nov-2022') & (data_frame4['Fund Name']=='Baroda BNP Paribas MULTI CAP FUND - Direct Plan - Growth Option')].values[0]\n",
    "return_1_month_fund2 = ((last_date - first_date)/first_date)*100\n",
    "print(return_1_month_fund2)"
   ]
  },
  {
   "cell_type": "markdown",
   "id": "04a36996-3208-45bc-8fda-b1b5c40a40cb",
   "metadata": {},
   "source": [
    "## For 2 month"
   ]
  },
  {
   "cell_type": "code",
   "execution_count": 29,
   "id": "41c7e6c6-c4b9-4182-9068-be7746b8bcf9",
   "metadata": {},
   "outputs": [
    {
     "name": "stdout",
     "output_type": "stream",
     "text": [
      "Portfolio weights [0.37539306 0.62460694]\n"
     ]
    }
   ],
   "source": [
    "expected_returns = [return_1_month_fund1,return_1_month_fund2]\n",
    "num_assets = len(expected_returns)\n",
    "weights = np.random.random(num_assets)\n",
    "weights /= np.sum(weights)\n",
    "print(\"Portfolio weights\",weights)"
   ]
  },
  {
   "cell_type": "code",
   "execution_count": 139,
   "id": "f36a3f80-af99-4f27-a7b5-8f2458988875",
   "metadata": {},
   "outputs": [],
   "source": [
    "data_frame['Date'] = pd.to_datetime(data_frame['Date'], format = '%d-%b-%Y')\n",
    "data_frame3['Date'] = pd.to_datetime(data_frame3['Date'], format = '%d-%b-%Y')\n",
    "data_frame4['Date'] = pd.to_datetime(data_frame4['Date'], format = '%d-%b-%Y')"
   ]
  },
  {
   "cell_type": "code",
   "execution_count": 145,
   "id": "966bac6a-5818-477b-8261-934902d6dde6",
   "metadata": {},
   "outputs": [],
   "source": [
    "filtered_df = data_frame[(data_frame['Date'] >= '2022-11-07') & (data_frame['Date'] <= '2023-01-06')]\n",
    "filtered_df\n",
    "Daily_NAV_fund1 = filtered_df['NAV'][data_frame['Fund Name']=='Aditya Birla Sun Life Multi-Cap Fund-Direct Growth'].values"
   ]
  },
  {
   "cell_type": "code",
   "execution_count": 147,
   "id": "7a932414-3f8e-4f37-b192-c10090673f90",
   "metadata": {},
   "outputs": [],
   "source": [
    "data_frame2['Date'] = pd.to_datetime(data_frame2['Date'], format = '%d-%b-%Y')\n",
    "filtered_df2 = data_frame2[(data_frame2['Date'] >= '2022-11-07') & (data_frame2['Date'] <= '2023-01-06')]\n",
    "filtered_df2\n",
    "Daily_NAV_fund2 = filtered_df2['NAV'][data_frame2['Fund Name']=='Axis Multicap Fund - Direct Growth'].values"
   ]
  },
  {
   "cell_type": "code",
   "execution_count": 157,
   "id": "5b616e5d-9bb6-4687-bb9d-5700672171ff",
   "metadata": {},
   "outputs": [],
   "source": [
    "filtered_df3 = data_frame3[(data_frame3['Date'] >= '2022-11-07') & (data_frame2['Date'] <= '2023-01-06')]\n",
    "filtered_df2\n",
    "Daily_NAV_fund3 = filtered_df3['NAV'][data_frame3['Fund Name']=='BANDHAN MULTI CAP FUND - GROWTH - DIRECT PLAN'].values"
   ]
  },
  {
   "cell_type": "code",
   "execution_count": 143,
   "id": "b8f0a05c-9c55-4c64-bf72-d815b56ed2f0",
   "metadata": {},
   "outputs": [],
   "source": [
    "filtered_df4 = data_frame4[(data_frame4['Date'] >= '2022-11-07') & (data_frame4['Date'] <= '2023-01-06')]\n",
    "filtered_df4\n",
    "Daily_NAV_fund4 = filtered_df4['NAV'][data_frame4['Fund Name']=='Baroda BNP Paribas MULTI CAP FUND - Direct Plan - Growth Option'].values"
   ]
  },
  {
   "cell_type": "code",
   "execution_count": 146,
   "id": "f6497c8b-85cb-4922-99a3-4626a925f32e",
   "metadata": {},
   "outputs": [
    {
     "data": {
      "text/plain": [
       "'Axis Multicap Fund - Direct Growth'"
      ]
     },
     "execution_count": 146,
     "metadata": {},
     "output_type": "execute_result"
    }
   ],
   "source": [
    "data_frame2['Fund Name'][0]"
   ]
  },
  {
   "cell_type": "code",
   "execution_count": 161,
   "id": "b59550b6-c590-4d21-a67e-ddccfe733645",
   "metadata": {},
   "outputs": [],
   "source": [
    "data = {\n",
    "    'Asset 1' : Daily_NAV_fund1,\n",
    "    'Asset 2' : Daily_NAV_fund2,\n",
    "    'Asset 3' : Daily_NAV_fund3,\n",
    "    'Asset 4': Daily_NAV_fund4\n",
    "}"
   ]
  },
  {
   "cell_type": "code",
   "execution_count": 163,
   "id": "16ac6e1d-9870-4aa1-9e16-33fbc4177614",
   "metadata": {},
   "outputs": [],
   "source": [
    "df = pd.DataFrame(data)"
   ]
  },
  {
   "cell_type": "code",
   "execution_count": 160,
   "id": "224d7320-d11f-402b-8b33-657b997aa942",
   "metadata": {},
   "outputs": [
    {
     "name": "stdout",
     "output_type": "stream",
     "text": [
      "44\n",
      "44\n",
      "44\n",
      "44\n"
     ]
    }
   ],
   "source": [
    "print(len(Daily_NAV_fund1))\n",
    "print(len(Daily_NAV_fund2))\n",
    "print(len(Daily_NAV_fund3))\n",
    "print(len(Daily_NAV_fund4))"
   ]
  },
  {
   "cell_type": "code",
   "execution_count": 164,
   "id": "1f10d35b-79e1-4e13-8cc3-ba3620d4b6a9",
   "metadata": {},
   "outputs": [],
   "source": [
    "# Calculate the log Returns\n",
    "log_return = np.log(1 + df.pct_change())"
   ]
  },
  {
   "cell_type": "code",
   "execution_count": 165,
   "id": "dcbfeb44-becf-4361-831a-38854860a446",
   "metadata": {},
   "outputs": [
    {
     "data": {
      "text/plain": [
       "array([0.78357614, 0.98345437, 0.04274019, 0.31298557])"
      ]
     },
     "metadata": {},
     "output_type": "display_data"
    }
   ],
   "source": [
    "# Generate some Random Weights\n",
    "random_weights = np.array(np.random.random(4))\n",
    "display(random_weights)"
   ]
  },
  {
   "cell_type": "code",
   "execution_count": 166,
   "id": "00f01fe2-10e0-402f-b706-4958d6c6360a",
   "metadata": {},
   "outputs": [],
   "source": [
    "# Generate the rebalance weights\n",
    "rebalance_weights = random_weights/(np.sum(random_weights))"
   ]
  },
  {
   "cell_type": "code",
   "execution_count": 168,
   "id": "20a48153-5047-4385-974b-5af729400774",
   "metadata": {},
   "outputs": [],
   "source": [
    "# Calculate the Expected Returns\n",
    "exp_return = np.sum((log_return.mean() * rebalance_weights)*44)"
   ]
  },
  {
   "cell_type": "code",
   "execution_count": 169,
   "id": "0de8ecad-35c8-4452-b006-be14a8704fd9",
   "metadata": {},
   "outputs": [],
   "source": [
    "#Expected Volatility\n",
    "exp_volatility = np.sqrt(np.dot(rebalance_weights.T, np.dot(log_return.cov() *44,rebalance_weights)))"
   ]
  },
  {
   "cell_type": "code",
   "execution_count": 170,
   "id": "0ab71037-2d55-4be6-a3b4-85f6c4a19110",
   "metadata": {},
   "outputs": [],
   "source": [
    "#Caluclate Sharpe Ratio\n",
    "sharpe_ratio = (exp_return - .07)/exp_volatility"
   ]
  },
  {
   "cell_type": "code",
   "execution_count": 171,
   "id": "7c3ae0e5-a6c9-4ac2-8277-bf7df86289a4",
   "metadata": {},
   "outputs": [
    {
     "name": "stdout",
     "output_type": "stream",
     "text": [
      "\n",
      "--------------------------------------------------------------------------------\n",
      "PORTFOLIO WEIGHTS : \n",
      "--------------------------------------------------------------------------------\n",
      "   random_weights  rebalance_weights\n",
      "0        0.783576           0.369131\n",
      "1        0.983454           0.463291\n",
      "2        0.042740           0.020134\n",
      "3        0.312986           0.147443\n",
      "--------------------------------------------------------------------------------\n",
      "\n",
      "--------------------------------------------------------------------------------\n",
      "PORTFOLIO METRICS : \n",
      "--------------------------------------------------------------------------------\n",
      "   Expected Returns  Expected Portfolio Volatility  Sharpe Ratio\n",
      "0         -0.029506                       0.047497     -2.094996\n",
      "--------------------------------------------------------------------------------\n"
     ]
    }
   ],
   "source": [
    "weights_df = pd.DataFrame(data ={'random_weights' : random_weights, 'rebalance_weights' :rebalance_weights})\n",
    "print(\"\")\n",
    "print(\"-\"*80)\n",
    "print(\"PORTFOLIO WEIGHTS : \")\n",
    "print(\"-\" * 80)\n",
    "print(weights_df)\n",
    "print(\"-\"*80)\n",
    "\n",
    "\n",
    "metrics_df = pd.DataFrame(data = {'Expected Returns': exp_return, 'Expected Portfolio Volatility' : exp_volatility, 'Sharpe Ratio' : sharpe_ratio},index=[0])\n",
    "print(\"\")\n",
    "print(\"-\"*80)\n",
    "print(\"PORTFOLIO METRICS : \")\n",
    "print(\"-\" * 80)\n",
    "print(metrics_df)\n",
    "print(\"-\"*80)"
   ]
  },
  {
   "cell_type": "markdown",
   "id": "4c09cd0c-ecd2-4067-ab85-ecd192e46192",
   "metadata": {},
   "source": [
    "# Portfolio Optimization Monte Carlo"
   ]
  },
  {
   "cell_type": "code",
   "execution_count": 173,
   "id": "226956a8-ca54-46e8-8ad7-a58df66f43f7",
   "metadata": {},
   "outputs": [],
   "source": [
    "number_of_symbols = 4"
   ]
  },
  {
   "cell_type": "code",
   "execution_count": 182,
   "id": "cd7b1faa-4441-4613-b1e5-f800dfa2457a",
   "metadata": {},
   "outputs": [
    {
     "name": "stdout",
     "output_type": "stream",
     "text": [
      "-0.0035513192559312994\n"
     ]
    }
   ],
   "source": [
    "num_of_portfolio = 5000\n",
    "\n",
    "all_weights = np.zeros((num_of_portfolio, number_of_symbols))\n",
    "ret_arr = np.zeros(num_of_portfolio)\n",
    "vol_arr = np.zeros(num_of_portfolio)\n",
    "sharpe_arr = np.zeros(num_of_portfolio)\n",
    "\n",
    "#Start the simulation\n",
    "\n",
    "for ind in range(num_of_portfolio):\n",
    "    weights = np.array(np.random.random(number_of_symbols))\n",
    "    weights = weights/np.sum(weights)\n",
    "    all_weights[ind,:] = weights\n",
    "    ret_arr[ind] = np.sum((log_return.mean() * weights) * 44)\n",
    "    vol_arr[ind] = np.sqrt(\n",
    "        np.dot(weights.T, np.dot(log_return.cov() * 44, weights))\n",
    "    )\n",
    "    sharpe_arr[ind] = (ret_arr[ind]-0.07)/vol_arr[ind]\n",
    "\n",
    "simulations_data = [ret_arr,vol_arr, sharpe_arr, all_weights]\n",
    "simulation_df = pd.DataFrame(data = simulations_data).T\n",
    "\n",
    "# Add the column names\n",
    "simulation_df.columns = [\n",
    "    'Returns',\n",
    "    'Volatility',\n",
    "    'Sharpe Ratio',\n",
    "    'Portfolio Weights'\n",
    "]\n",
    "\n",
    "# Make sure the data types are correct, we don't want our floats to be strings.\n",
    "simulation_df = simulation_df.infer_objects()\n",
    "\n",
    "# Print out the results.\n",
    "# print('')\n",
    "# print('='*80)\n",
    "# print('SIMULATIONS RESULT:')\n",
    "# print('-'*80)\n",
    "# print(simulation_df.head())\n",
    "# print('-'*80)\n",
    "max_return = simulation_df['Returns'].max()\n",
    "print(max_return)"
   ]
  },
  {
   "cell_type": "markdown",
   "id": "7f628435-fe70-4141-82b7-1612b8b9d87e",
   "metadata": {},
   "source": [
    "## Optimization"
   ]
  },
  {
   "cell_type": "code",
   "execution_count": 235,
   "id": "5a2e868c-031e-4f58-95bd-71c20823f4ab",
   "metadata": {},
   "outputs": [],
   "source": [
    "def get_metrics(weights: list) -> np.array:\n",
    "    \"\"\"\n",
    "    ### Overview:\n",
    "    ----\n",
    "    With a given set of weights, return the portfolio returns,\n",
    "    the portfolio volatility, and the portfolio sharpe ratio.\n",
    "\n",
    "    ### Arguments:\n",
    "    ----\n",
    "    weights (list): An array of portfolio weights.\n",
    "\n",
    "    ### Returns:\n",
    "    ----\n",
    "    (np.array): An array containg return value, a volatility value,\n",
    "        and a sharpe ratio.\n",
    "    \"\"\"\n",
    "\n",
    "    # Convert to a Numpy Array.\n",
    "    weights = np.array(weights)\n",
    "\n",
    "    # Calculate the returns, remember to annualize them (252).\n",
    "    ret = np.sum(log_return.mean() * weights) * 44\n",
    "\n",
    "    # Calculate the volatility, remember to annualize them (252).\n",
    "    vol = np.sqrt(\n",
    "        np.dot(weights.T, np.dot(log_return.cov() * 44, weights))\n",
    "    )\n",
    "\n",
    "    # Calculate the Sharpe Ratio.\n",
    "    sr = (ret -0.07)  / vol\n",
    "\n",
    "    return np.array([ret, vol, sr])\n",
    "\n",
    "def grab_negative_sharpe(weights: list) -> np.array:\n",
    "    \"\"\"The function used to minimize the Sharpe Ratio.\n",
    "\n",
    "    ### Arguments:\n",
    "    ----\n",
    "    weights (list): The weights, we are testing to see\n",
    "        if it's the minimum.\n",
    "\n",
    "    ### Returns:\n",
    "    ----\n",
    "    (np.array): An numpy array of the portfolio metrics.\n",
    "    \"\"\"\n",
    "    return  (1/(1+get_metrics(weights)[2]))\n",
    "    # return get_metrics(weights)[2]*-1\n",
    "\n",
    "def grab_volatility(weights: list) -> np.array:\n",
    "    \"\"\"The function used to minimize the Sharpe Ratio.\n",
    "\n",
    "    ### Arguments:\n",
    "    ----\n",
    "    weights (list): The weights, we are testing to see\n",
    "        if it's the minimum.\n",
    "\n",
    "    ### Returns:\n",
    "    ----\n",
    "    (np.array): An numpy array of the portfolio metrics.\n",
    "    \"\"\"\n",
    "    return get_metrics(weights)[1]\n",
    "\n",
    "def check_sum(weights: list) -> float:\n",
    "    \"\"\"Ensure the allocations of the \"weights\", sums to 1 (100%)\n",
    "\n",
    "    ### Arguments:\n",
    "    ----\n",
    "    weights (list): The weights we want to check to see\n",
    "        if they sum to 1.\n",
    "\n",
    "    ### Returns:\n",
    "    ----\n",
    "    float: The different between 1 and the sum of the weights.\n",
    "    \"\"\"\n",
    "    return np.sum(weights) - 1"
   ]
  },
  {
   "cell_type": "code",
   "execution_count": 236,
   "id": "3f1d908a-04db-4880-9f9b-a093d72c4d4f",
   "metadata": {},
   "outputs": [
    {
     "name": "stdout",
     "output_type": "stream",
     "text": [
      "\n",
      "================================================================================\n",
      "OPTIMIZED SHARPE RATIO:\n",
      "--------------------------------------------------------------------------------\n",
      " message: Optimization terminated successfully\n",
      " success: True\n",
      "  status: 0\n",
      "     fun: -1.8246964775539984\n",
      "       x: [ 5.000e-02  5.000e-02  8.500e-01  5.000e-02]\n",
      "     nit: 3\n",
      "     jac: [-3.569e+00 -2.224e+00 -5.166e+00 -3.221e+00]\n",
      "    nfev: 15\n",
      "    njev: 3\n",
      "--------------------------------------------------------------------------------\n"
     ]
    }
   ],
   "source": [
    "# Define the boundaries for each symbol. Remember I can only invest up to 100% of my capital into a single asset.\n",
    "bounds = tuple((0.05, 1) for symbol in range(number_of_symbols))\n",
    "\n",
    "# Define the constraints, here I'm saying that the sum of each weight must not exceed 100%.\n",
    "constraints = ({'type': 'eq', 'fun': check_sum})\n",
    "\n",
    "# We need to create an initial guess to start with,\n",
    "# and usually the best initial guess is just an\n",
    "# even distribution. In this case 25% for each of the 4 stocks.\n",
    "init_guess = number_of_symbols * [1 / number_of_symbols]\n",
    "\n",
    "# Perform the operation to minimize the risk.\n",
    "optimized_sharpe = sci_plt.minimize(\n",
    "    grab_negative_sharpe, # minimize this.\n",
    "    init_guess, # Start with these values.\n",
    "    method='SLSQP',\n",
    "    bounds=bounds, # don't exceed these bounds.\n",
    "    constraints=constraints # make sure you don't exceed the 100% constraint.\n",
    ")\n",
    "\n",
    "# Print the results.\n",
    "print('')\n",
    "print('='*80)\n",
    "print('OPTIMIZED SHARPE RATIO:')\n",
    "print('-'*80)\n",
    "print(optimized_sharpe)\n",
    "print('-'*80)"
   ]
  },
  {
   "cell_type": "code",
   "execution_count": 237,
   "id": "62f19754-bfc2-4705-8480-f093b5e86cc8",
   "metadata": {},
   "outputs": [
    {
     "name": "stdout",
     "output_type": "stream",
     "text": [
      "\n",
      "================================================================================\n",
      "OPTIMIZED WEIGHTS:\n",
      "--------------------------------------------------------------------------------\n",
      "[0.05 0.05 0.85 0.05]\n",
      "--------------------------------------------------------------------------------\n",
      "\n",
      "================================================================================\n",
      "OPTIMIZED METRICS:\n",
      "--------------------------------------------------------------------------------\n",
      "[-0.00451454  0.04813488 -1.54803635]\n",
      "--------------------------------------------------------------------------------\n"
     ]
    }
   ],
   "source": [
    "# Grab the metrics.\n",
    "optimized_metrics = get_metrics(weights=optimized_sharpe.x)\n",
    "\n",
    "# Print the Optimized Weights.\n",
    "print('')\n",
    "print('='*80)\n",
    "print('OPTIMIZED WEIGHTS:')\n",
    "print('-'*80)\n",
    "print(optimized_sharpe.x)\n",
    "print('-'*80)\n",
    "\n",
    "\n",
    "# Print the Optimized Metrics.\n",
    "print('')\n",
    "print('='*80)\n",
    "print('OPTIMIZED METRICS:')\n",
    "print('-'*80)\n",
    "print(optimized_metrics)\n",
    "print('-'*80)"
   ]
  },
  {
   "cell_type": "code",
   "execution_count": 223,
   "id": "3a8b6492-6c49-42a2-b480-8c06e28802ae",
   "metadata": {},
   "outputs": [
    {
     "name": "stdout",
     "output_type": "stream",
     "text": [
      "\n",
      "================================================================================\n",
      "OPTIMIZED VOLATILITY RATIO:\n",
      "--------------------------------------------------------------------------------\n",
      " message: Optimization terminated successfully\n",
      " success: True\n",
      "  status: 0\n",
      "     fun: 0.043408272996792785\n",
      "       x: [ 1.110e-16  0.000e+00  2.708e-18  1.000e+00]\n",
      "     nit: 13\n",
      "     jac: [ 4.842e-02  4.439e-02  4.588e-02  4.341e-02]\n",
      "    nfev: 65\n",
      "    njev: 13\n",
      "--------------------------------------------------------------------------------\n"
     ]
    }
   ],
   "source": [
    "# Define the boundaries for each symbol. Remember I can only invest up to 100% of my capital into a single asset.\n",
    "bounds = tuple((0, 1) for symbol in range(number_of_symbols))\n",
    "\n",
    "# Define the constraints, here I'm saying that the sum of each weight must not exceed 100%.\n",
    "constraints = ({'type': 'eq', 'fun': check_sum})\n",
    "\n",
    "# We need to create an initial guess to start with,\n",
    "# and usually the best initial guess is just an\n",
    "# even distribution. In this case 25% for each of the 4 stocks.\n",
    "init_guess = number_of_symbols * [1 / number_of_symbols]\n",
    "\n",
    "# Perform the operation to minimize the risk.\n",
    "optimized_volatility = sci_plt.minimize(\n",
    "    grab_volatility, # minimize this.\n",
    "    init_guess, # Start with these values.\n",
    "    method='SLSQP',\n",
    "    bounds=bounds, # don't exceed these bounds.\n",
    "    constraints=constraints # make sure you don't exceed the 100% constraint.\n",
    ")\n",
    "\n",
    "# Print the results.\n",
    "print('')\n",
    "print('='*80)\n",
    "print('OPTIMIZED VOLATILITY RATIO:')\n",
    "print('-'*80)\n",
    "print(optimized_volatility)\n",
    "print('-'*80)"
   ]
  },
  {
   "cell_type": "code",
   "execution_count": 205,
   "id": "d3886458-49cc-4e0e-9c48-89f478b77e4f",
   "metadata": {},
   "outputs": [
    {
     "name": "stdout",
     "output_type": "stream",
     "text": [
      "\n",
      "================================================================================\n",
      "OPTIMIZED WEIGHTS:\n",
      "--------------------------------------------------------------------------------\n",
      "[1.11022302e-16 0.00000000e+00 2.70833990e-18 1.00000000e+00]\n",
      "--------------------------------------------------------------------------------\n",
      "\n",
      "================================================================================\n",
      "OPTIMIZED METRICS:\n",
      "--------------------------------------------------------------------------------\n",
      "[-0.01738181  0.04340827 -2.01302194]\n",
      "--------------------------------------------------------------------------------\n"
     ]
    }
   ],
   "source": [
    "optimized_metrics = get_metrics(weights=optimized_volatility.x)\n",
    "\n",
    "# Print the Optimized Weights.\n",
    "print('')\n",
    "print('='*80)\n",
    "print('OPTIMIZED WEIGHTS:')\n",
    "print('-'*80)\n",
    "print(optimized_volatility.x)\n",
    "print('-'*80)\n",
    "\n",
    "\n",
    "# Print the Optimized Metrics.\n",
    "print('')\n",
    "print('='*80)\n",
    "print('OPTIMIZED METRICS:')\n",
    "print('-'*80)\n",
    "print(optimized_metrics)\n",
    "print('-'*80)"
   ]
  },
  {
   "cell_type": "code",
   "execution_count": null,
   "id": "71c8215a-86da-41b3-a003-edf2eb97da2e",
   "metadata": {},
   "outputs": [],
   "source": []
  }
 ],
 "metadata": {
  "kernelspec": {
   "display_name": "Python 3 (ipykernel)",
   "language": "python",
   "name": "python3"
  },
  "language_info": {
   "codemirror_mode": {
    "name": "ipython",
    "version": 3
   },
   "file_extension": ".py",
   "mimetype": "text/x-python",
   "name": "python",
   "nbconvert_exporter": "python",
   "pygments_lexer": "ipython3",
   "version": "3.8.16"
  }
 },
 "nbformat": 4,
 "nbformat_minor": 5
}
